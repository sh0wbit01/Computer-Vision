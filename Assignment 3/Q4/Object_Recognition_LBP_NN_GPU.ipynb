{
  "nbformat": 4,
  "nbformat_minor": 0,
  "metadata": {
    "colab": {
      "name": "Object Recognition - LBP - GPU- Final.ipynb",
      "provenance": [],
      "collapsed_sections": []
    },
    "kernelspec": {
      "name": "python3",
      "display_name": "Python 3"
    },
    "accelerator": "GPU"
  },
  "cells": [
    {
      "cell_type": "code",
      "metadata": {
        "id": "hiiN9lGaSxvJ",
        "colab_type": "code",
        "colab": {}
      },
      "source": [
        "import os\n",
        "import numpy as np\n",
        "import matplotlib.pyplot as plt\n",
        "import torch\n",
        "import torchvision\n",
        "from torchvision import transforms\n",
        "from torchvision.transforms import ToTensor\n",
        "from torch.utils.data.sampler import SubsetRandomSampler\n",
        "from torch.utils.data.dataloader import DataLoader\n",
        "from torchvision.datasets import ImageFolder\n",
        "import torch.nn as nn\n",
        "import torch.nn.functional as F\n",
        "import cv2\n",
        "from skimage import feature\n",
        "import copy"
      ],
      "execution_count": null,
      "outputs": []
    },
    {
      "cell_type": "code",
      "metadata": {
        "id": "6T-amUBqytks",
        "colab_type": "code",
        "colab": {
          "base_uri": "https://localhost:8080/",
          "height": 222
        },
        "outputId": "c0b0c7dc-343a-47f3-e9ae-4633e73a3a82"
      },
      "source": [
        "!wget 'http://files.fast.ai/data/cifar10.tgz'\n",
        "!tar -xf cifar10.tgz"
      ],
      "execution_count": null,
      "outputs": [
        {
          "output_type": "stream",
          "text": [
            "--2020-07-29 07:47:58--  http://files.fast.ai/data/cifar10.tgz\n",
            "Resolving files.fast.ai (files.fast.ai)... 67.205.15.147\n",
            "Connecting to files.fast.ai (files.fast.ai)|67.205.15.147|:80... connected.\n",
            "HTTP request sent, awaiting response... 200 OK\n",
            "Length: 168168549 (160M) [application/x-gtar-compressed]\n",
            "Saving to: ‘cifar10.tgz’\n",
            "\n",
            "cifar10.tgz         100%[===================>] 160.38M  16.4MB/s    in 11s     \n",
            "\n",
            "2020-07-29 07:48:10 (14.5 MB/s) - ‘cifar10.tgz’ saved [168168549/168168549]\n",
            "\n"
          ],
          "name": "stdout"
        }
      ]
    },
    {
      "cell_type": "code",
      "metadata": {
        "id": "pvYqiRu2fJWH",
        "colab_type": "code",
        "colab": {
          "base_uri": "https://localhost:8080/",
          "height": 36
        },
        "outputId": "7cf45255-27e2-4844-a64f-1e5456bee7a3"
      },
      "source": [
        "torch.cuda.is_available()"
      ],
      "execution_count": null,
      "outputs": [
        {
          "output_type": "execute_result",
          "data": {
            "text/plain": [
              "True"
            ]
          },
          "metadata": {
            "tags": []
          },
          "execution_count": 3
        }
      ]
    },
    {
      "cell_type": "code",
      "metadata": {
        "id": "H1UeO47VfPb1",
        "colab_type": "code",
        "colab": {}
      },
      "source": [
        "def get_device():\n",
        "  if torch.cuda.is_available():\n",
        "    return torch.device('cuda')\n",
        "  else:\n",
        "    return torch.device('cpu')"
      ],
      "execution_count": null,
      "outputs": []
    },
    {
      "cell_type": "code",
      "metadata": {
        "id": "ugqyVbTHfQXp",
        "colab_type": "code",
        "colab": {}
      },
      "source": [
        "device = get_device()"
      ],
      "execution_count": null,
      "outputs": []
    },
    {
      "cell_type": "code",
      "metadata": {
        "id": "cWzhKj3dfQ2V",
        "colab_type": "code",
        "colab": {}
      },
      "source": [
        "def to_device(data, device):\n",
        "    \"\"\"Move tensor(s) to chosen device\"\"\"\n",
        "    if isinstance(data, (list,tuple)):\n",
        "        return [to_device(x, device) for x in data]\n",
        "    return data.to(device, non_blocking=True)"
      ],
      "execution_count": null,
      "outputs": []
    },
    {
      "cell_type": "code",
      "metadata": {
        "id": "k1jnIh8hyv4E",
        "colab_type": "code",
        "colab": {
          "base_uri": "https://localhost:8080/",
          "height": 54
        },
        "outputId": "9d95aae7-2d03-4b64-f377-be541d5ce448"
      },
      "source": [
        "data_dir = '/content/cifar10'\n",
        "\n",
        "print(os.listdir(data_dir))\n",
        "classes = sorted(os.listdir(data_dir + \"/train\"))\n",
        "print(classes)"
      ],
      "execution_count": null,
      "outputs": [
        {
          "output_type": "stream",
          "text": [
            "['train', 'test', 'labels.txt']\n",
            "['airplane', 'automobile', 'bird', 'cat', 'deer', 'dog', 'frog', 'horse', 'ship', 'truck']\n"
          ],
          "name": "stdout"
        }
      ]
    },
    {
      "cell_type": "code",
      "metadata": {
        "id": "rhNdJcX_zZm4",
        "colab_type": "code",
        "colab": {}
      },
      "source": [
        "data_transform = transforms.Compose([transforms.Grayscale(num_output_channels=1),\n",
        "                                     transforms.ToTensor()])\n",
        "dataset = ImageFolder(data_dir+'/train',   transform=data_transform)"
      ],
      "execution_count": null,
      "outputs": []
    },
    {
      "cell_type": "code",
      "metadata": {
        "id": "P3RRqnA_zg5m",
        "colab_type": "code",
        "colab": {
          "base_uri": "https://localhost:8080/",
          "height": 36
        },
        "outputId": "cc7431a7-354b-41dc-88b4-602df1b8674e"
      },
      "source": [
        "len(dataset)"
      ],
      "execution_count": null,
      "outputs": [
        {
          "output_type": "execute_result",
          "data": {
            "text/plain": [
              "50000"
            ]
          },
          "metadata": {
            "tags": []
          },
          "execution_count": 9
        }
      ]
    },
    {
      "cell_type": "code",
      "metadata": {
        "id": "DB1XzPE90AOZ",
        "colab_type": "code",
        "colab": {}
      },
      "source": [
        "def split_indices(n, val_pct, seed):\n",
        "    # Determine size of validation set\n",
        "    n_val = int(val_pct*n)\n",
        "    # Set the random seed (for reproducibility)\n",
        "    np.random.seed(seed)\n",
        "    # Create random permutation of 0 to n-1\n",
        "    idxs = np.random.permutation(n)\n",
        "    # Pick first n_val indices for validation set\n",
        "    return idxs[n_val:], idxs[:n_val]"
      ],
      "execution_count": null,
      "outputs": []
    },
    {
      "cell_type": "code",
      "metadata": {
        "id": "OvnMSohz0Pmo",
        "colab_type": "code",
        "colab": {
          "base_uri": "https://localhost:8080/",
          "height": 54
        },
        "outputId": "8ac18609-0980-42f4-d746-65ffc4c4e02f"
      },
      "source": [
        "val_pct = 0.2\n",
        "rand_seed = 42\n",
        "\n",
        "train_indices, val_indices = split_indices(len(dataset), val_pct, rand_seed)\n",
        "print(len(train_indices), len(val_indices))\n",
        "print('Sample validation indices: ', val_indices[:10])"
      ],
      "execution_count": null,
      "outputs": [
        {
          "output_type": "stream",
          "text": [
            "40000 10000\n",
            "Sample validation indices:  [33553  9427   199 12447 39489 42724 10822 49498  4144 36958]\n"
          ],
          "name": "stdout"
        }
      ]
    },
    {
      "cell_type": "code",
      "metadata": {
        "id": "PaHgpwttlp9k",
        "colab_type": "code",
        "colab": {}
      },
      "source": [
        "batch_size=128\n",
        "\n",
        "# Training sampler and data loader\n",
        "train_sampler = SubsetRandomSampler(train_indices)\n",
        "train_dl = DataLoader(dataset, \n",
        "                      batch_size, \n",
        "                      sampler=train_sampler)\n",
        "\n",
        "# Validation sampler and data loader\n",
        "val_sampler = SubsetRandomSampler(val_indices)\n",
        "val_dl = DataLoader(dataset,\n",
        "                    batch_size, \n",
        "                    sampler=val_sampler)"
      ],
      "execution_count": null,
      "outputs": []
    },
    {
      "cell_type": "code",
      "metadata": {
        "id": "CXQGNiVh0Qxi",
        "colab_type": "code",
        "colab": {
          "base_uri": "https://localhost:8080/",
          "height": 303
        },
        "outputId": "14e4c287-bcc7-4e31-c3e5-ed21683fa8f9"
      },
      "source": [
        "img,label = dataset[1500]\n",
        "print(\"Label: \",classes[label])\n",
        "plt.imshow(np.array(img.squeeze()))\n"
      ],
      "execution_count": null,
      "outputs": [
        {
          "output_type": "stream",
          "text": [
            "Label:  airplane\n"
          ],
          "name": "stdout"
        },
        {
          "output_type": "execute_result",
          "data": {
            "text/plain": [
              "<matplotlib.image.AxesImage at 0x7f9dcd0304e0>"
            ]
          },
          "metadata": {
            "tags": []
          },
          "execution_count": 13
        },
        {
          "output_type": "display_data",
          "data": {
            "image/png": "[encoded data removed]",
            "text/plain": [
              "<Figure size 432x288 with 1 Axes>"
            ]
          },
          "metadata": {
            "tags": [],
            "needs_background": "light"
          }
        }
      ]
    },
    {
      "cell_type": "code",
      "metadata": {
        "id": "kZDcICg65net",
        "colab_type": "code",
        "colab": {
          "base_uri": "https://localhost:8080/",
          "height": 303
        },
        "outputId": "05dde651-c63a-4e30-b91d-e453c21e9b4d"
      },
      "source": [
        "img,label = dataset[25369]\n",
        "print(\"Label: \",classes[label])\n",
        "plt.imshow(np.array(img.squeeze()))"
      ],
      "execution_count": null,
      "outputs": [
        {
          "output_type": "stream",
          "text": [
            "Label:  dog\n"
          ],
          "name": "stdout"
        },
        {
          "output_type": "execute_result",
          "data": {
            "text/plain": [
              "<matplotlib.image.AxesImage at 0x7f9dccfcfc18>"
            ]
          },
          "metadata": {
            "tags": []
          },
          "execution_count": 14
        },
        {
          "output_type": "display_data",
          "data": {
            "image/png": "[encoded data removed]",
            "text/plain": [
              "<Figure size 432x288 with 1 Axes>"
            ]
          },
          "metadata": {
            "tags": [],
            "needs_background": "light"
          }
        }
      ]
    },
    {
      "cell_type": "code",
      "metadata": {
        "id": "5rPaL2gj3vQX",
        "colab_type": "code",
        "colab": {}
      },
      "source": [
        "class finding_LBP():\n",
        "  def __init__(self, points, rad):\n",
        "    self.points = points\n",
        "    self.rad = rad\n",
        "\n",
        "  def describe(self, image, eps=1e-10):\n",
        "    lbp = feature.local_binary_pattern(image, self.points,self.rad, method=\"uniform\")\n",
        "    (hist, _) = np.histogram(lbp.ravel(),bins=np.arange(0, self.points + 3),range=(0, self.points + 2))\n",
        "    lbp = (lbp - lbp.min()) / (lbp.max() - lbp.min())\n",
        "    hist = hist.astype(\"float\")\n",
        "    hist /= (hist.sum() + eps)\n",
        "    return lbp,hist"
      ],
      "execution_count": null,
      "outputs": []
    },
    {
      "cell_type": "code",
      "metadata": {
        "id": "EjG_mUOI3vkU",
        "colab_type": "code",
        "colab": {}
      },
      "source": [
        "# lbp = finding_LBP(24,8)\n",
        "lbpx = finding_LBP(24,1)"
      ],
      "execution_count": null,
      "outputs": []
    },
    {
      "cell_type": "code",
      "metadata": {
        "id": "NWeFqn_Y3vn7",
        "colab_type": "code",
        "colab": {
          "base_uri": "https://localhost:8080/",
          "height": 285
        },
        "outputId": "bf1530e1-45a7-4bbc-beeb-0a8a23e0e48a"
      },
      "source": [
        "img,label = dataset[25375]\n",
        "print(\"Label: \",classes[label])\n",
        "plt.imshow(np.array(img.squeeze()))\n",
        "arr,hist = lbpx.describe(np.array(img.squeeze()))\n",
        "# arr2,hist2 = lbp2.describe(np.array(img.squeeze()))"
      ],
      "execution_count": null,
      "outputs": [
        {
          "output_type": "stream",
          "text": [
            "Label:  dog\n"
          ],
          "name": "stdout"
        },
        {
          "output_type": "display_data",
          "data": {
            "image/png": "[encoded data removed]",
            "text/plain": [
              "<Figure size 432x288 with 1 Axes>"
            ]
          },
          "metadata": {
            "tags": [],
            "needs_background": "light"
          }
        }
      ]
    },
    {
      "cell_type": "code",
      "metadata": {
        "id": "QZB5L1Uo9DEe",
        "colab_type": "code",
        "colab": {
          "base_uri": "https://localhost:8080/",
          "height": 378
        },
        "outputId": "bf205c0f-1aca-4c08-b0af-485c50019bae"
      },
      "source": [
        "print('Hist:',hist)\n",
        "plt.imshow(arr)"
      ],
      "execution_count": null,
      "outputs": [
        {
          "output_type": "stream",
          "text": [
            "Hist: [0.03808594 0.03613281 0.02636719 0.01464844 0.01367187 0.01757812\n",
            " 0.02148437 0.02441406 0.02734375 0.04296875 0.05761719 0.09667969\n",
            " 0.10644531 0.09863281 0.0625     0.04882812 0.03417969 0.0234375\n",
            " 0.02148437 0.02050781 0.01269531 0.01074219 0.01367187 0.01074219\n",
            " 0.03320312 0.0859375 ]\n"
          ],
          "name": "stdout"
        },
        {
          "output_type": "execute_result",
          "data": {
            "text/plain": [
              "<matplotlib.image.AxesImage at 0x7f9dcca5d9b0>"
            ]
          },
          "metadata": {
            "tags": []
          },
          "execution_count": 18
        },
        {
          "output_type": "display_data",
          "data": {
            "image/png": "[encoded data removed]",
            "text/plain": [
              "<Figure size 432x288 with 1 Axes>"
            ]
          },
          "metadata": {
            "tags": [],
            "needs_background": "light"
          }
        }
      ]
    },
    {
      "cell_type": "code",
      "metadata": {
        "id": "CYJUEZ_M9qzd",
        "colab_type": "code",
        "colab": {}
      },
      "source": [
        "# print('Hist:',hist2)\n",
        "# plt.imshow(arr2)"
      ],
      "execution_count": null,
      "outputs": []
    },
    {
      "cell_type": "code",
      "metadata": {
        "id": "2ZkFLY88IJhb",
        "colab_type": "code",
        "colab": {}
      },
      "source": [
        "def batchLbp(batch,lbpobj):\n",
        "  images,labels = batch\n",
        "  # print('images shape:',images.shape)\n",
        "  # print('lbls shape:',labels.shape)\n",
        "  histfeats = []\n",
        "  lbpfeats = []\n",
        "  for i in images:\n",
        "    arr,hist = lbpobj.describe(i.squeeze())\n",
        "    lbpfeats.append(arr)\n",
        "    histfeats.append(hist)\n",
        "  hfeats=torch.as_tensor(np.array(histfeats,dtype='float32'))\n",
        "  lfeats=torch.as_tensor(np.array(lbpfeats,dtype='float32'))\n",
        "  # print(lfeats)\n",
        "  # print(type(labels))\n",
        "  # print(lfeats.view(-1,32*32).shape)\n",
        "  # data = (lfeats,labels)\n",
        "  data = (hfeats,labels)\n",
        "  data = to_device(data,device)\n",
        "  return data\n"
      ],
      "execution_count": null,
      "outputs": []
    },
    {
      "cell_type": "code",
      "metadata": {
        "id": "iUAxcFKALV9E",
        "colab_type": "code",
        "colab": {}
      },
      "source": [
        "# lbpx = finding_LBP(12,4)\n",
        "# for batch in train_dl:\n",
        "#   d=batchLbp(batch,lbpx)\n",
        "#   break"
      ],
      "execution_count": null,
      "outputs": []
    },
    {
      "cell_type": "code",
      "metadata": {
        "id": "ha5kYZHt2jv2",
        "colab_type": "code",
        "colab": {}
      },
      "source": [
        "class CifarModel(nn.Module):\n",
        "\n",
        "  def __init__(self,input_size,hidden_size,out_size,lbpobj):\n",
        "    super().__init__()\n",
        "    self.lbpobj = lbpobj\n",
        "    self.linear1 = nn.Linear(input_size,hidden_size)\n",
        "    self.linear2 = nn.Linear(hidden_size,out_size)\n",
        "\n",
        "  def forward(self,vb):\n",
        "    # vb = vb.view(vb.size(0),-1)\n",
        "    vb = vb.view(-1,input_size)\n",
        "    # print('vbow shape:',vb.shape)\n",
        "    out = self.linear1(vb)\n",
        "    out = F.relu(out)\n",
        "    # out = torch.sigmoid(out)\n",
        "    out = self.linear2(out)\n",
        "    return out\n",
        "\n",
        "  def training_step(self,batch):\n",
        "    d = batchLbp(batch,self.lbpobj)\n",
        "    hfeats,labels = d\n",
        "    out = self(hfeats)\n",
        "    acc = accuracy(out,labels)\n",
        "    # print('Out shape:',out.shape)\n",
        "    # print('labels shape:',labels.shape)\n",
        "    loss = F.cross_entropy(out,labels)\n",
        "    return loss,acc\n",
        "\n",
        "  def validation_step(self,batch):\n",
        "    d = batchLbp(batch,self.lbpobj)\n",
        "    hfeats,labels = d\n",
        "    out = self(hfeats)\n",
        "    # print('Out shape:',out.shape)\n",
        "    # print('labels shape:',labels.shape)\n",
        "    loss = F.cross_entropy(out,labels)\n",
        "    acc = accuracy(out,labels)\n",
        "    return {'val_loss' : loss, 'val_acc' : acc }\n",
        "\n",
        "  def validation_epoch_end(self,outputs):\n",
        "    batch_losses = [x['val_loss'] for x in outputs]\n",
        "    epoch_loss = torch.stack(batch_losses).mean()\n",
        "    batch_accs = [x['val_acc'] for x in outputs]\n",
        "    epoch_acc = torch.stack(batch_accs).mean()\n",
        "    return {'val_loss' : epoch_loss.item(), 'val_acc' : epoch_acc.item() }\n",
        "    \n",
        "  # def epoch_end(epoch, result2):\n",
        "  #     # print(\"Epoch [{}], train_loss: {:.4f}, train_acc: {:.4f}\".format(epoch, result1['val_loss'], result1['val_acc']))\n",
        "  #     print(\"val_loss: {:.4f}, val_acc: {:.4f}\".format(result2['val_loss'], result2['val_acc']))\n"
      ],
      "execution_count": null,
      "outputs": []
    },
    {
      "cell_type": "code",
      "metadata": {
        "id": "CwewEoGDgT5p",
        "colab_type": "code",
        "colab": {
          "base_uri": "https://localhost:8080/",
          "height": 91
        },
        "outputId": "fd83895f-b85f-48c9-cefd-1c7ccfbaae5d"
      },
      "source": [
        "lbpraadius = 1\n",
        "lbppoints = 24 * max(lbpraadius,1)\n",
        "lbp = finding_LBP(lbppoints,lbpraadius)\n",
        "# input_size = 32*32\n",
        "input_size = lbppoints + 2\n",
        "num_classes = len(classes)\n",
        "\n",
        "model = CifarModel(input_size, hidden_size=16,out_size=num_classes,lbpobj=lbp)\n",
        "\n",
        "to_device(model, device)"
      ],
      "execution_count": null,
      "outputs": [
        {
          "output_type": "execute_result",
          "data": {
            "text/plain": [
              "CifarModel(\n",
              "  (linear1): Linear(in_features=26, out_features=16, bias=True)\n",
              "  (linear2): Linear(in_features=16, out_features=10, bias=True)\n",
              ")"
            ]
          },
          "metadata": {
            "tags": []
          },
          "execution_count": 23
        }
      ]
    },
    {
      "cell_type": "code",
      "metadata": {
        "id": "9tA3_ssK3mke",
        "colab_type": "code",
        "colab": {}
      },
      "source": [
        "def accuracy(outputs,labels):\n",
        "  _,preds =  torch.max(outputs,dim=1)\n",
        "  return torch.tensor(torch.sum(preds==labels).item()/len(preds))"
      ],
      "execution_count": null,
      "outputs": []
    },
    {
      "cell_type": "code",
      "metadata": {
        "id": "-U7-j9Rg5-iv",
        "colab_type": "code",
        "colab": {}
      },
      "source": [
        "def evaluate(model, valid_loader):\n",
        "    outputs = [model.validation_step(batch) for batch in valid_loader]\n",
        "    return model.validation_epoch_end(outputs)"
      ],
      "execution_count": null,
      "outputs": []
    },
    {
      "cell_type": "code",
      "metadata": {
        "id": "_gnMCiISzDA3",
        "colab_type": "code",
        "colab": {}
      },
      "source": [
        "def fit(model,train_loader,valid_loader,epochs,opt,lr_scheduler):\n",
        "  history = []  \n",
        "  best_model_params = copy.deepcopy(model.state_dict())\n",
        "  best_acc = 0.0\n",
        "  for epoch in range(epochs):\n",
        "    train_stats = []\n",
        "    # train_result ={}\n",
        "    train_acc = 0.0\n",
        "    #For Training\n",
        "    for batch in train_loader:\n",
        "      opt.zero_grad()\n",
        "      loss,acc = model.training_step(batch)\n",
        "      train_acc = acc\n",
        "      loss.backward()\n",
        "      opt.step()\n",
        "      train_stats.append({'val_loss' : loss, 'val_acc' : train_acc })\n",
        "\n",
        "    \n",
        "    \n",
        "    train_result = model.validation_epoch_end(train_stats)\n",
        "    # print(train_result)\n",
        "    \n",
        "    #For validation\n",
        "    valid_result = evaluate(model, valid_loader)\n",
        "\n",
        "    # lr_scheduler.step()\n",
        "\n",
        "    if(epoch+1)%4==0:\n",
        "      print(\"epoch: {}, training_loss: {:.4f}, training_acc: {:.4f}, val_loss: {:.4f}, val_acc: {:.4f}\".format(epoch+1, train_result['val_loss'], train_result['val_acc'], valid_result['val_loss'], valid_result['val_acc']))\n",
        "      # model.epoch_end(epoch+1,valid_result)\n",
        "    \n",
        "    history.append(valid_result)\n",
        "    \n",
        "    if best_acc < valid_result['val_acc']:\n",
        "      best_model_params = copy.deepcopy(model.state_dict())\n",
        "      best_acc = valid_result['val_acc']\n",
        "\n",
        "  model.load_state_dict(best_model_params)\n",
        "  return model, history    \n"
      ],
      "execution_count": null,
      "outputs": []
    },
    {
      "cell_type": "code",
      "metadata": {
        "id": "vWmAOVod7IGv",
        "colab_type": "code",
        "colab": {}
      },
      "source": [
        "from torch.optim import lr_scheduler\n",
        "lr = 0.005\n",
        "opt = torch.optim.Adam(model.parameters(),lr)  \n",
        "scheduler = lr_scheduler.StepLR(opt, step_size=15, gamma=0.1)"
      ],
      "execution_count": null,
      "outputs": []
    },
    {
      "cell_type": "code",
      "metadata": {
        "id": "D0cjcOZJ7IDd",
        "colab_type": "code",
        "colab": {
          "base_uri": "https://localhost:8080/",
          "height": 203
        },
        "outputId": "53131a4d-d5d4-46bb-88ad-73487ed22ccb"
      },
      "source": [
        "model, history = fit(model,train_dl,val_dl,40,opt,lr_scheduler=scheduler)"
      ],
      "execution_count": null,
      "outputs": [
        {
          "output_type": "stream",
          "text": [
            "epoch: 4, training_loss: 2.0435, training_acc: 0.2552, val_loss: 2.0311, val_acc: 0.2606\n",
            "epoch: 8, training_loss: 1.9902, training_acc: 0.2711, val_loss: 1.9773, val_acc: 0.2763\n",
            "epoch: 12, training_loss: 1.9686, training_acc: 0.2818, val_loss: 1.9622, val_acc: 0.2773\n",
            "epoch: 16, training_loss: 1.9543, training_acc: 0.2904, val_loss: 1.9433, val_acc: 0.2988\n",
            "epoch: 20, training_loss: 1.9455, training_acc: 0.2947, val_loss: 1.9349, val_acc: 0.2979\n",
            "epoch: 24, training_loss: 1.9413, training_acc: 0.2976, val_loss: 1.9309, val_acc: 0.3006\n",
            "epoch: 28, training_loss: 1.9392, training_acc: 0.2971, val_loss: 1.9295, val_acc: 0.3000\n",
            "epoch: 32, training_loss: 1.9379, training_acc: 0.2994, val_loss: 1.9297, val_acc: 0.2980\n",
            "epoch: 36, training_loss: 1.9360, training_acc: 0.2977, val_loss: 1.9279, val_acc: 0.3007\n",
            "epoch: 40, training_loss: 1.9353, training_acc: 0.2994, val_loss: 1.9275, val_acc: 0.2999\n"
          ],
          "name": "stdout"
        }
      ]
    },
    {
      "cell_type": "code",
      "metadata": {
        "id": "mgadzxRSPY3q",
        "colab_type": "code",
        "colab": {}
      },
      "source": [
        "# for i in range(15,22):\n",
        "#   print('Batch size:{}, Hidden Layer:{} and Epoch: 60 and lr: 0.5 '.format(batch_size,i))\n",
        "#   model = CifarModel(input_size, hidden_size=i,out_size=num_classes,lbpobj=lbp)\n",
        "#   to_device(model, device)\n",
        "#   history = fit(model,train_dl,val_dl,60,torch.optim.SGD,0.5)\n"
      ],
      "execution_count": null,
      "outputs": []
    },
    {
      "cell_type": "code",
      "metadata": {
        "id": "cZiJrgYZ10cR",
        "colab_type": "code",
        "colab": {
          "base_uri": "https://localhost:8080/",
          "height": 1000
        },
        "outputId": "355b9b3e-fdf6-4ed7-c3ad-2ed809dd44e3"
      },
      "source": [
        "for parameter in model.parameters():\n",
        "  print(parameter)"
      ],
      "execution_count": null,
      "outputs": [
        {
          "output_type": "stream",
          "text": [
            "Parameter containing:\n",
            "tensor([[ 5.6957e-03, -2.4442e-01, -3.6111e-02, -2.1891e-01, -1.5115e-01,\n",
            "         -1.5822e-01, -2.8770e-01, -2.5308e-01, -1.2156e-02, -9.4387e-02,\n",
            "          6.1346e-02,  1.0209e-01, -1.6819e-01, -2.0117e-01,  5.4380e-03,\n",
            "         -2.9251e-01, -2.6020e-01, -2.4157e-01, -2.1717e-01, -3.2590e-02,\n",
            "         -2.6265e-01, -2.4861e-02, -2.0599e-01,  1.4297e-01, -3.0694e-02,\n",
            "          2.9027e-02],\n",
            "        [-1.6574e-01, -1.8389e-01, -5.8107e-02,  2.0793e-02,  1.2570e-01,\n",
            "         -7.6518e-02,  6.0819e-02, -1.5882e-01,  1.2249e-01,  2.5469e-02,\n",
            "          9.1349e-02, -3.7328e-02, -1.2645e-01,  2.2776e-03,  1.6367e-01,\n",
            "          4.2980e-02, -1.3123e-01,  1.7137e-01,  1.0655e-01,  1.0997e-01,\n",
            "         -4.0348e-02,  1.4661e-01, -1.8984e-01, -1.2086e-01, -2.5663e-02,\n",
            "          1.0019e-01],\n",
            "        [ 4.7498e-02, -3.4703e-04, -1.1229e-01, -4.6801e-02,  7.0728e-02,\n",
            "         -9.9431e-02, -9.5525e-02, -1.6660e-01,  6.2139e-04, -1.7792e-01,\n",
            "         -1.7290e-01, -1.1498e-01, -3.2653e-02,  1.5263e-01, -1.2814e-01,\n",
            "          8.3309e-02, -9.2535e-02, -1.6598e-01, -1.3709e-02,  1.8572e-01,\n",
            "          1.3695e-01,  1.6562e-01, -1.0394e-01,  3.2900e-02, -1.7756e-01,\n",
            "          1.2051e-01],\n",
            "        [-7.2350e-02,  1.2515e-01, -2.1965e-01,  4.0241e-02,  1.4996e-01,\n",
            "          1.6416e-01, -8.5408e-02, -1.4982e-01, -7.2323e-02,  4.9764e-02,\n",
            "          5.3353e-02, -2.2558e-01,  2.5272e-02, -1.5063e-01,  2.1138e-02,\n",
            "         -1.9006e-01, -1.7053e-01,  1.6052e-02, -1.6175e-01,  9.7205e-02,\n",
            "          3.9538e-02,  6.7870e-02, -3.4937e-02,  7.3773e-02, -1.4490e-01,\n",
            "         -1.1388e-01],\n",
            "        [-9.5653e-01,  4.7154e+00,  3.3540e+00,  1.9110e-01, -5.6280e-01,\n",
            "          9.8592e-01, -2.1913e+00,  2.7337e+00,  1.2644e-02, -1.7749e+00,\n",
            "         -6.5733e-01,  7.1588e-01,  1.6123e+00,  1.1623e+00, -3.1226e-01,\n",
            "         -1.0443e+00,  1.1815e+00,  1.2824e+00, -1.6693e+00, -1.4188e+00,\n",
            "         -2.7090e+00,  7.6124e-01,  1.1452e+00,  5.7444e+00,  1.3252e+00,\n",
            "         -1.3018e-02],\n",
            "        [ 8.3102e-01, -5.2285e+00, -1.3833e+00,  1.2487e+00,  1.8892e+00,\n",
            "          8.9203e-01,  1.1709e+00, -2.7244e+00, -4.5401e-01,  2.1951e+00,\n",
            "          3.3932e+00,  9.7052e-01,  1.2891e-01, -1.1730e+00,  1.4783e+00,\n",
            "          3.0831e-01, -2.4044e+00, -2.3298e+00,  1.0786e+00,  2.8671e+00,\n",
            "          1.9052e+00, -4.4633e-01, -2.5956e+00, -1.1371e+01,  9.8118e-01,\n",
            "          6.0005e-01],\n",
            "        [ 4.2023e-01, -2.4154e+00,  1.7795e+00,  2.3493e+00,  2.0260e+00,\n",
            "         -1.1005e+00,  4.0438e+00, -2.5521e+00,  9.2286e-01,  3.7201e+00,\n",
            "          2.2642e-01, -7.9673e-01,  1.0049e+00, -2.2256e+00, -2.7678e+00,\n",
            "          5.2799e-01, -1.3536e+00, -6.4862e-01,  4.1995e+00,  2.2589e+00,\n",
            "          5.0300e+00, -9.4069e-01,  2.3566e+00,  3.6147e-02,  5.0090e-01,\n",
            "          1.0015e+00],\n",
            "        [-1.0809e-01, -6.3478e-02,  9.8570e-02,  6.2177e-02,  8.5449e-03,\n",
            "          9.4625e-02,  1.3304e-01,  1.5291e-01, -1.8503e-01, -5.1735e-02,\n",
            "          6.2217e-02,  9.8911e-03, -4.8969e-02, -5.7425e-02, -4.5889e-02,\n",
            "         -1.6639e-01, -4.8620e-02, -1.7548e-01,  8.0867e-02, -9.9659e-02,\n",
            "          1.5289e-01,  1.6382e-01,  1.7247e-01, -7.1526e-02, -1.4440e-01,\n",
            "         -1.3280e-01],\n",
            "        [ 9.1024e-02,  1.7214e-01,  5.0768e-02,  3.7673e-02,  2.3011e-02,\n",
            "         -6.4771e-02, -3.5505e-02,  2.0101e-02, -1.8996e-01, -1.2893e-02,\n",
            "         -1.6419e-01,  1.4977e-01,  7.7853e-02, -4.2027e-02, -3.4305e-02,\n",
            "         -1.8380e-01, -1.1287e-01, -3.5411e-02, -4.7964e-02,  1.5473e-01,\n",
            "          1.9096e-01,  9.4865e-02, -2.6657e-02,  3.6299e-02,  1.0077e-01,\n",
            "         -2.5889e-02],\n",
            "        [-1.1466e-01, -7.7258e-02, -1.1380e-01, -2.1317e-01,  9.2702e-02,\n",
            "         -2.1079e-01, -1.5659e-01,  1.4716e-02, -6.7808e-02, -3.5706e-02,\n",
            "         -1.2378e-01,  1.3579e-01,  1.0999e-01,  1.7187e-02,  2.4639e-02,\n",
            "          1.2302e-01, -2.2214e-01, -3.0945e-02, -3.4556e-02, -3.1509e-02,\n",
            "         -4.5963e-03, -1.1706e-01,  2.5440e-02,  6.7679e-02, -2.2372e-01,\n",
            "         -1.5883e-01],\n",
            "        [-1.8148e-01, -1.3845e-02, -9.9393e-03, -5.2088e-02, -4.8730e-03,\n",
            "          9.7220e-02,  1.0366e-01,  1.9465e-02, -1.6504e-01,  1.9091e-01,\n",
            "         -1.8149e-02,  2.3287e-02, -8.1080e-02, -1.8514e-01,  3.3932e-03,\n",
            "         -9.4836e-03,  3.1292e-02, -1.0646e-01, -5.9130e-02,  1.2545e-01,\n",
            "          1.2606e-01,  1.6095e-01,  1.7286e-01,  4.0799e-02, -1.8199e-01,\n",
            "         -1.1250e-01],\n",
            "        [ 1.1326e-02, -1.8471e-01, -1.9364e-02, -9.9799e-02, -4.5797e-02,\n",
            "         -1.8128e-01, -1.9308e-01,  1.0787e-01, -1.2119e-02, -1.4662e-01,\n",
            "          8.5492e-02, -7.9401e-02, -1.1954e-01, -1.8726e-01, -1.4660e-01,\n",
            "         -1.9185e-01, -1.2439e-01,  9.7724e-02, -1.7705e-01,  1.7350e-01,\n",
            "          1.9092e-01, -1.6584e-01, -4.6433e-02,  8.5391e-02, -3.7860e-02,\n",
            "          1.5604e-01],\n",
            "        [ 4.8685e+00, -2.7901e+00, -1.8970e+00,  1.7781e+00,  1.4092e+00,\n",
            "          2.1568e+00,  3.0739e-01, -3.3125e-01, -1.1530e+00, -1.7066e+00,\n",
            "         -8.5597e-01, -1.7746e+00, -4.3349e+00, -1.1778e-01,  8.6355e-01,\n",
            "         -6.7195e-01,  2.0631e+00,  7.4531e-01,  8.5714e-02,  4.2472e+00,\n",
            "          1.1616e+00,  1.7516e+00, -2.1229e+00, -7.8566e+00,  2.7507e-01,\n",
            "          2.0864e+00],\n",
            "        [-2.2950e-02,  8.0945e-02,  1.3037e-01, -1.9260e-02, -1.4511e-01,\n",
            "          1.3541e-01,  1.9399e-01, -4.0352e-02,  1.0973e-01, -1.3356e-01,\n",
            "          1.0706e-01, -1.7729e-01, -1.1936e-01, -3.8303e-03, -4.0055e-02,\n",
            "          5.8073e-02, -1.8474e-01,  1.4370e-01, -1.8403e-02,  1.7357e-01,\n",
            "         -1.3996e-01,  8.8390e-02, -4.7409e-02, -3.3359e-02, -5.6881e-02,\n",
            "          6.0878e-02],\n",
            "        [ 3.4203e+00, -1.9897e+00,  2.6719e+00,  3.0996e+00,  1.2765e+00,\n",
            "         -8.6398e-01, -4.0682e-01, -9.3364e-01, -5.8959e-01, -6.8751e-01,\n",
            "         -2.5393e+00, -1.3923e+00,  5.9630e-01, -2.4369e-01, -2.2892e+00,\n",
            "         -2.0808e+00, -5.7668e-01,  3.7045e-01,  1.2883e-01,  2.7058e+00,\n",
            "          2.6245e+00, -6.9300e-01,  1.0446e+00,  3.9025e+00,  1.2417e+00,\n",
            "          1.3263e+00],\n",
            "        [-4.5537e-01, -1.3488e+00, -3.7907e+00, -1.7529e+00,  7.7988e-02,\n",
            "          1.1589e+00,  4.3203e+00,  1.0692e+00,  3.3743e+00,  3.3567e+00,\n",
            "          8.7466e-01, -1.3867e+00, -3.6862e+00, -5.9820e-01,  8.4861e-01,\n",
            "          3.6099e+00,  1.8765e+00,  1.9345e+00,  3.1414e+00, -8.8876e-01,\n",
            "          1.7289e+00,  1.4528e-01,  4.9228e-01, -1.3142e+00,  1.3752e-01,\n",
            "          1.0660e+00]], device='cuda:0', requires_grad=True)\n",
            "Parameter containing:\n",
            "tensor([ 0.0365, -0.1694, -0.1409, -0.0085,  0.8737,  0.1119,  0.3672, -0.0120,\n",
            "        -0.1303, -0.0747, -0.1800, -0.0522,  0.0795, -0.1174,  0.3060,  0.2194],\n",
            "       device='cuda:0', requires_grad=True)\n",
            "Parameter containing:\n",
            "tensor([[ 2.0910e-01,  8.5090e-02, -5.3076e-02,  5.6309e-02,  1.5259e+00,\n",
            "          4.9983e-01, -4.5777e+00,  1.3351e-01,  1.8733e-02, -1.5410e-02,\n",
            "         -2.4123e-02,  5.0266e-02,  2.3027e+00,  2.4959e-01, -8.5937e-02,\n",
            "         -2.0664e+00],\n",
            "        [-1.8951e-02,  7.5958e-02, -2.3286e-01, -2.4786e-01,  1.9487e-01,\n",
            "         -1.8058e+00,  1.9264e+00, -6.2042e-02, -1.6350e-01,  1.8094e-01,\n",
            "          6.3881e-02,  1.9059e-01, -6.3515e+00,  1.7105e-01,  2.7592e+00,\n",
            "         -4.4064e+00],\n",
            "        [-1.9893e-01, -1.7690e-01,  2.9399e-03, -3.6580e-02,  3.0515e-01,\n",
            "          2.9473e+00, -2.4500e+00, -2.3472e-01, -2.2010e-01,  1.7906e-01,\n",
            "          1.0824e-01, -1.3060e-01,  4.3495e+00, -2.0183e-01, -1.3015e+00,\n",
            "         -8.7426e-01],\n",
            "        [ 1.6368e-01,  5.0406e-02, -1.9855e-01, -2.1131e-01,  1.0889e-01,\n",
            "          2.6986e+00,  5.4628e-01, -9.8667e-02, -1.3694e-01,  2.2789e-02,\n",
            "          1.4351e-01,  1.1046e-02, -1.2779e+00,  1.0526e-01, -1.0754e+00,\n",
            "         -3.6072e-01],\n",
            "        [ 1.4355e-02,  1.4678e-01, -1.1762e-01, -1.4228e-01, -1.3552e+00,\n",
            "         -1.0803e+00,  1.2569e+00,  1.4621e-01,  2.7361e-02, -2.5418e-01,\n",
            "         -2.2006e-01, -2.4941e-01,  1.5615e+00, -1.7304e-01, -9.7548e-01,\n",
            "          3.7226e+00],\n",
            "        [ 1.3236e-01, -2.2647e-01, -1.8163e-01,  1.3061e-01, -3.5879e-01,\n",
            "          2.5730e+00,  1.0326e+00, -6.9110e-02,  2.3229e-01,  1.7248e-01,\n",
            "          5.5383e-02,  2.2406e-01, -8.7362e-01,  2.1097e-01, -3.3097e+00,\n",
            "          7.8405e-01],\n",
            "        [ 7.9931e-02,  9.0830e-03,  1.9596e-01, -9.3461e-02, -1.5252e+00,\n",
            "          3.8176e+00,  1.1529e+00,  1.0402e-01, -9.5821e-02, -6.4957e-02,\n",
            "         -1.0989e-01, -1.2961e-01,  3.7567e+00, -2.2735e-01,  1.4775e+00,\n",
            "         -4.3394e-01],\n",
            "        [ 1.3210e-01, -7.2047e-02,  1.8280e-01, -1.3373e-01, -7.6977e-01,\n",
            "         -3.0282e+00,  8.6226e-01,  1.6683e-01,  9.4092e-04,  1.7134e-01,\n",
            "         -2.0238e-01, -1.0082e-01, -3.4349e+00,  9.3164e-02,  1.5037e+00,\n",
            "          1.7017e+00],\n",
            "        [ 8.9432e-02, -8.9316e-02, -3.9412e-02, -2.2662e-01,  9.9061e-01,\n",
            "         -3.1649e+00, -2.6511e+00, -1.9083e-01,  1.7733e-01, -2.3367e-01,\n",
            "          1.9061e-01, -1.4731e-01, -8.8384e-01, -1.6024e-01, -1.4147e+00,\n",
            "          2.3393e-01],\n",
            "        [ 2.4880e-01, -2.3405e-01, -7.7378e-02,  8.5011e-02,  3.8915e-01,\n",
            "         -7.0518e+00,  5.9348e-01, -1.7919e-01,  1.3032e-01,  6.9925e-02,\n",
            "          1.7273e-01,  1.6123e-01, -6.0078e+00,  8.7845e-02,  1.4983e+00,\n",
            "          4.9659e-01]], device='cuda:0', requires_grad=True)\n",
            "Parameter containing:\n",
            "tensor([ 0.6244, -0.2282,  0.7437, -0.3113, -0.6496,  0.2101, -0.9285, -0.2006,\n",
            "         0.9284, -0.6129], device='cuda:0', requires_grad=True)\n"
          ],
          "name": "stdout"
        }
      ]
    },
    {
      "cell_type": "code",
      "metadata": {
        "id": "4cJgLuJ6Ttod",
        "colab_type": "code",
        "colab": {}
      },
      "source": [
        "torch.save(model.state_dict(),'cifar_lbp.pth')"
      ],
      "execution_count": null,
      "outputs": []
    },
    {
      "cell_type": "code",
      "metadata": {
        "id": "eAID6CALFtB7",
        "colab_type": "code",
        "colab": {}
      },
      "source": [
        "test_dataset = ImageFolder(data_dir+'/test', transform=data_transform)"
      ],
      "execution_count": null,
      "outputs": []
    },
    {
      "cell_type": "code",
      "metadata": {
        "id": "NASIT-X6Qw9B",
        "colab_type": "code",
        "colab": {}
      },
      "source": [
        "test_dl = DataLoader(test_dataset, batch_size=256)"
      ],
      "execution_count": null,
      "outputs": []
    },
    {
      "cell_type": "code",
      "metadata": {
        "id": "SCsHeMM_REZA",
        "colab_type": "code",
        "colab": {}
      },
      "source": [
        "test_result = evaluate(model,test_dl)"
      ],
      "execution_count": null,
      "outputs": []
    },
    {
      "cell_type": "code",
      "metadata": {
        "id": "oq-N_gADSV4k",
        "colab_type": "code",
        "colab": {
          "base_uri": "https://localhost:8080/",
          "height": 36
        },
        "outputId": "86ddf6cd-05e3-4bd2-f544-820de572dc65"
      },
      "source": [
        "print(\"test_loss: {:.4f}, test_acc: {:.4f}\".format(test_result['val_loss'], test_result['val_acc']))"
      ],
      "execution_count": null,
      "outputs": [
        {
          "output_type": "stream",
          "text": [
            "test_loss: 1.9264, test_acc: 0.3029\n"
          ],
          "name": "stdout"
        }
      ]
    },
    {
      "cell_type": "code",
      "metadata": {
        "id": "t1W9NpzJXLmR",
        "colab_type": "code",
        "colab": {}
      },
      "source": [
        ""
      ],
      "execution_count": null,
      "outputs": []
    }
  ]
}