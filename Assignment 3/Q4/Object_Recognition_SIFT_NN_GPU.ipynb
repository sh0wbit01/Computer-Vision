{
  "nbformat": 4,
  "nbformat_minor": 0,
  "metadata": {
    "colab": {
      "name": "Copy of Copy of Object Recognition - SIFT - GPU-Final.ipynb",
      "provenance": [],
      "collapsed_sections": []
    },
    "kernelspec": {
      "name": "python3",
      "display_name": "Python 3"
    },
    "accelerator": "GPU"
  },
  "cells": [
    {
      "cell_type": "code",
      "metadata": {
        "id": "V22Em9IXN8_X",
        "colab_type": "code",
        "colab": {
          "base_uri": "https://localhost:8080/",
          "height": 139
        },
        "outputId": "c3f36b22-636d-49cc-fd8c-1358d5078924"
      },
      "source": [
        "!pip install opencv-contrib-python-nonfree"
      ],
      "execution_count": null,
      "outputs": [
        {
          "output_type": "stream",
          "text": [
            "Collecting opencv-contrib-python-nonfree\n",
            "\u001b[?25l  Downloading https://files.pythonhosted.org/packages/cb/a4/2d1008d71dc1be752d6cb554842052184faedf54ffa149baee76d0b88472/opencv_contrib_python_nonfree-4.1.1.1-cp36-cp36m-manylinux1_x86_64.whl (34.9MB)\n",
            "\u001b[K     |████████████████████████████████| 34.9MB 85kB/s \n",
            "\u001b[?25hRequirement already satisfied: numpy>=1.11.3 in /usr/local/lib/python3.6/dist-packages (from opencv-contrib-python-nonfree) (1.18.5)\n",
            "Installing collected packages: opencv-contrib-python-nonfree\n",
            "Successfully installed opencv-contrib-python-nonfree-4.1.1.1\n"
          ],
          "name": "stdout"
        }
      ]
    },
    {
      "cell_type": "code",
      "metadata": {
        "id": "hiiN9lGaSxvJ",
        "colab_type": "code",
        "colab": {}
      },
      "source": [
        "import os\n",
        "import numpy as np\n",
        "import matplotlib.pyplot as plt\n",
        "import torch\n",
        "import torchvision\n",
        "from torchvision import transforms\n",
        "from torchvision.transforms import ToTensor\n",
        "from torch.utils.data.sampler import SubsetRandomSampler\n",
        "from torch.utils.data.dataloader import DataLoader\n",
        "from torchvision.datasets import ImageFolder\n",
        "import torch.nn as nn\n",
        "import torch.nn.functional as F\n",
        "import cv2"
      ],
      "execution_count": null,
      "outputs": []
    },
    {
      "cell_type": "code",
      "metadata": {
        "id": "6T-amUBqytks",
        "colab_type": "code",
        "colab": {
          "base_uri": "https://localhost:8080/",
          "height": 204
        },
        "outputId": "37e0c5a7-e0b7-41d6-8824-a8312410abf8"
      },
      "source": [
        "!wget 'http://files.fast.ai/data/cifar10.tgz'\n",
        "!tar -xf cifar10.tgz"
      ],
      "execution_count": null,
      "outputs": [
        {
          "output_type": "stream",
          "text": [
            "--2020-06-10 06:03:33--  http://files.fast.ai/data/cifar10.tgz\n",
            "Resolving files.fast.ai (files.fast.ai)... 67.205.15.147\n",
            "Connecting to files.fast.ai (files.fast.ai)|67.205.15.147|:80... connected.\n",
            "HTTP request sent, awaiting response... 200 OK\n",
            "Length: 168168549 (160M) [application/x-gtar-compressed]\n",
            "Saving to: ‘cifar10.tgz’\n",
            "\n",
            "cifar10.tgz         100%[===================>] 160.38M  36.0MB/s    in 5.0s    \n",
            "\n",
            "2020-06-10 06:03:39 (32.0 MB/s) - ‘cifar10.tgz’ saved [168168549/168168549]\n",
            "\n"
          ],
          "name": "stdout"
        }
      ]
    },
    {
      "cell_type": "code",
      "metadata": {
        "id": "pvYqiRu2fJWH",
        "colab_type": "code",
        "colab": {
          "base_uri": "https://localhost:8080/",
          "height": 34
        },
        "outputId": "a8bf3dc3-c7bc-4ffd-a492-7a5c54cd499a"
      },
      "source": [
        "torch.cuda.is_available()"
      ],
      "execution_count": null,
      "outputs": [
        {
          "output_type": "execute_result",
          "data": {
            "text/plain": [
              "True"
            ]
          },
          "metadata": {
            "tags": []
          },
          "execution_count": 4
        }
      ]
    },
    {
      "cell_type": "code",
      "metadata": {
        "id": "H1UeO47VfPb1",
        "colab_type": "code",
        "colab": {}
      },
      "source": [
        "def get_device():\n",
        "  if torch.cuda.is_available():\n",
        "    return torch.device('cuda')\n",
        "  else:\n",
        "    return torch.device('cpu')"
      ],
      "execution_count": null,
      "outputs": []
    },
    {
      "cell_type": "code",
      "metadata": {
        "id": "ugqyVbTHfQXp",
        "colab_type": "code",
        "colab": {}
      },
      "source": [
        "device = get_device()"
      ],
      "execution_count": null,
      "outputs": []
    },
    {
      "cell_type": "code",
      "metadata": {
        "id": "cWzhKj3dfQ2V",
        "colab_type": "code",
        "colab": {}
      },
      "source": [
        "def to_device(data, device):\n",
        "    \"\"\"Move tensor(s) to chosen device\"\"\"\n",
        "    if isinstance(data, (list,tuple)):\n",
        "        return [to_device(x, device) for x in data]\n",
        "    return data.to(device, non_blocking=True)"
      ],
      "execution_count": null,
      "outputs": []
    },
    {
      "cell_type": "code",
      "metadata": {
        "id": "k1jnIh8hyv4E",
        "colab_type": "code",
        "colab": {
          "base_uri": "https://localhost:8080/",
          "height": 51
        },
        "outputId": "7892833e-885b-4b81-b91c-58b0cc4fea36"
      },
      "source": [
        "data_dir = '/content/cifar10'\n",
        "\n",
        "print(os.listdir(data_dir))\n",
        "classes = sorted(os.listdir(data_dir + \"/train\"))\n",
        "print(classes)"
      ],
      "execution_count": null,
      "outputs": [
        {
          "output_type": "stream",
          "text": [
            "['labels.txt', 'train', 'test']\n",
            "['airplane', 'automobile', 'bird', 'cat', 'deer', 'dog', 'frog', 'horse', 'ship', 'truck']\n"
          ],
          "name": "stdout"
        }
      ]
    },
    {
      "cell_type": "code",
      "metadata": {
        "id": "rhNdJcX_zZm4",
        "colab_type": "code",
        "colab": {}
      },
      "source": [
        "data_transform = transforms.Compose([transforms.Grayscale(num_output_channels=1),\n",
        "                                     transforms.ToTensor()])\n",
        "dataset = ImageFolder(data_dir+'/train',   transform=data_transform)"
      ],
      "execution_count": null,
      "outputs": []
    },
    {
      "cell_type": "code",
      "metadata": {
        "id": "P3RRqnA_zg5m",
        "colab_type": "code",
        "colab": {
          "base_uri": "https://localhost:8080/",
          "height": 34
        },
        "outputId": "8e8d17ba-0203-4062-b4f7-9831157f2acf"
      },
      "source": [
        "len(dataset)"
      ],
      "execution_count": null,
      "outputs": [
        {
          "output_type": "execute_result",
          "data": {
            "text/plain": [
              "50000"
            ]
          },
          "metadata": {
            "tags": []
          },
          "execution_count": 10
        }
      ]
    },
    {
      "cell_type": "code",
      "metadata": {
        "id": "DB1XzPE90AOZ",
        "colab_type": "code",
        "colab": {}
      },
      "source": [
        "def split_indices(n, val_pct, seed):\n",
        "    # Determine size of validation set\n",
        "    n_val = int(val_pct*n)\n",
        "    # Set the random seed (for reproducibility)\n",
        "    np.random.seed(seed)\n",
        "    # Create random permutation of 0 to n-1\n",
        "    idxs = np.random.permutation(n)\n",
        "    # Pick first n_val indices for validation set\n",
        "    return idxs[n_val:], idxs[:n_val]"
      ],
      "execution_count": null,
      "outputs": []
    },
    {
      "cell_type": "code",
      "metadata": {
        "id": "OvnMSohz0Pmo",
        "colab_type": "code",
        "colab": {
          "base_uri": "https://localhost:8080/",
          "height": 51
        },
        "outputId": "79155476-a4de-4d45-bf4c-6c2dcbc5de6b"
      },
      "source": [
        "val_pct = 0.2\n",
        "rand_seed = 42\n",
        "\n",
        "train_indices, val_indices = split_indices(len(dataset), val_pct, rand_seed)\n",
        "print(len(train_indices), len(val_indices))\n",
        "print('Sample validation indices: ', val_indices[:10])"
      ],
      "execution_count": null,
      "outputs": [
        {
          "output_type": "stream",
          "text": [
            "40000 10000\n",
            "Sample validation indices:  [33553  9427   199 12447 39489 42724 10822 49498  4144 36958]\n"
          ],
          "name": "stdout"
        }
      ]
    },
    {
      "cell_type": "code",
      "metadata": {
        "id": "PaHgpwttlp9k",
        "colab_type": "code",
        "colab": {}
      },
      "source": [
        "batch_size=256\n",
        "\n",
        "# Training sampler and data loader\n",
        "train_sampler = SubsetRandomSampler(train_indices)\n",
        "train_dl = DataLoader(dataset, \n",
        "                      batch_size, \n",
        "                      sampler=train_sampler)\n",
        "\n",
        "# Validation sampler and data loader\n",
        "val_sampler = SubsetRandomSampler(val_indices)\n",
        "val_dl = DataLoader(dataset,\n",
        "                    batch_size, \n",
        "                    sampler=val_sampler)"
      ],
      "execution_count": null,
      "outputs": []
    },
    {
      "cell_type": "code",
      "metadata": {
        "id": "CXQGNiVh0Qxi",
        "colab_type": "code",
        "colab": {
          "base_uri": "https://localhost:8080/",
          "height": 300
        },
        "outputId": "b3d255a6-c58c-429f-e4a1-92c0683833ce"
      },
      "source": [
        "img,label = dataset[200]\n",
        "print(\"Label: \",classes[label])\n",
        "plt.imshow(np.array(img.squeeze()))\n"
      ],
      "execution_count": null,
      "outputs": [
        {
          "output_type": "stream",
          "text": [
            "Label:  airplane\n"
          ],
          "name": "stdout"
        },
        {
          "output_type": "execute_result",
          "data": {
            "text/plain": [
              "<matplotlib.image.AxesImage at 0x7f8a65d2ef28>"
            ]
          },
          "metadata": {
            "tags": []
          },
          "execution_count": 14
        },
        {
          "output_type": "display_data",
          "data": {
            "image/png": "[encoded data removed]",
            "text/plain": [
              "<Figure size 432x288 with 1 Axes>"
            ]
          },
          "metadata": {
            "tags": [],
            "needs_background": "light"
          }
        }
      ]
    },
    {
      "cell_type": "code",
      "metadata": {
        "id": "kZDcICg65net",
        "colab_type": "code",
        "colab": {
          "base_uri": "https://localhost:8080/",
          "height": 300
        },
        "outputId": "a112656a-02f4-457d-83c1-8b399c0b7b9d"
      },
      "source": [
        "img,label = dataset[6739]\n",
        "print(\"Label: \",classes[label])\n",
        "plt.imshow(np.array(img.squeeze()))"
      ],
      "execution_count": null,
      "outputs": [
        {
          "output_type": "stream",
          "text": [
            "Label:  automobile\n"
          ],
          "name": "stdout"
        },
        {
          "output_type": "execute_result",
          "data": {
            "text/plain": [
              "<matplotlib.image.AxesImage at 0x7f8a658963c8>"
            ]
          },
          "metadata": {
            "tags": []
          },
          "execution_count": 15
        },
        {
          "output_type": "display_data",
          "data": {
            "image/png": "[encoded data removed]",
            "text/plain": [
              "<Figure size 432x288 with 1 Axes>"
            ]
          },
          "metadata": {
            "tags": [],
            "needs_background": "light"
          }
        }
      ]
    },
    {
      "cell_type": "code",
      "metadata": {
        "id": "_b8oudR70mMG",
        "colab_type": "code",
        "colab": {}
      },
      "source": [
        "def getDescriptor(img,descriptor):\n",
        "  # descriptor = cv2.xfeatures2d.SIFT_create()\n",
        "  # arr  = cv2.imread(img) #.permute(1,2,0)\n",
        "  # print(img.shape)\n",
        "  # gray = cv2.cvtColor(np.array(img), cv2.COLOR_BGR2GRAY)\n",
        "  # arr = np.array(img.squeeze())\n",
        "  gray= cv2.normalize(np.array(img.squeeze()), None, 0, 255, cv2.NORM_MINMAX).astype('uint8')\n",
        "  # print(gray)\n",
        "  #keypt,\n",
        "  step_size = 8\n",
        "  kp = [cv2.KeyPoint(x, y, step_size) for y in range(0, gray.shape[0], step_size) \n",
        "                                      for x in range(0, gray.shape[1], step_size)]\n",
        "  des = descriptor.compute(gray, kp)\n",
        "  # des = descriptor.detectAndCompute(gray,None)\n",
        "  # print(len(des))\n",
        "  return des"
      ],
      "execution_count": null,
      "outputs": []
    },
    {
      "cell_type": "code",
      "metadata": {
        "id": "ECnlQ8a4hMRn",
        "colab_type": "code",
        "colab": {}
      },
      "source": [
        "def genCodebook(descriptors, k):\n",
        "    # k=int(k)\n",
        "    iterations = 10\n",
        "    epsilon = 1.0\n",
        "    criteria = (cv2.TERM_CRITERIA_EPS + cv2.TERM_CRITERIA_MAX_ITER, iterations, epsilon)\n",
        "    compactness, labels, centers = cv2.kmeans(descriptors, k , None,criteria, iterations, cv2.KMEANS_RANDOM_CENTERS)\n",
        "    # print(compactness)\n",
        "    # print('Labels shape: ', labels.shape)\n",
        "    return labels,centers\n"
      ],
      "execution_count": null,
      "outputs": []
    },
    {
      "cell_type": "code",
      "metadata": {
        "id": "SyRyGI4Bk2-4",
        "colab_type": "code",
        "colab": {}
      },
      "source": [
        "def bowVector(descriptors, centers,klabels):\n",
        "    count = 0\n",
        "    vbow = np.array([np.zeros(centers.shape[0]) for i in range(len(descriptors))],dtype = np.float32)\n",
        "    # nkp = np.size(klabels)\n",
        "    # print('vbow shape:',vbow.shape)\n",
        "    for i in range(len(descriptors)):\n",
        "      l = len(descriptors[i])\n",
        "      # print('l in vbow: ',l)\n",
        "      for j in range(l):\n",
        "        idx = klabels[count+j]\n",
        "        vbow[i][idx] += 1     #/nkp\n",
        "      count += l\n",
        "    # print(vbow)\n",
        "    return torch.as_tensor(vbow)"
      ],
      "execution_count": null,
      "outputs": []
    },
    {
      "cell_type": "code",
      "metadata": {
        "id": "dDzHTuYb2jf_",
        "colab_type": "code",
        "colab": {}
      },
      "source": [
        "# from numpy import count_nonzero\n",
        "# def sparsity(vbow):\n",
        "#   sparsity = 1.0 - ( count_nonzero(vbow) / float(vbow.size) )\n",
        "#   print(sparsity)"
      ],
      "execution_count": null,
      "outputs": []
    },
    {
      "cell_type": "code",
      "metadata": {
        "id": "6NV40IrkJ4Xq",
        "colab_type": "code",
        "colab": {}
      },
      "source": [
        "def accuracy(outputs,labels):\n",
        "  _,preds =  torch.max(outputs,dim=1)\n",
        "  return torch.tensor(torch.sum(preds==labels).item()/len(preds))"
      ],
      "execution_count": null,
      "outputs": []
    },
    {
      "cell_type": "code",
      "metadata": {
        "id": "ha5kYZHt2jv2",
        "colab_type": "code",
        "colab": {}
      },
      "source": [
        "class CifarModel(nn.Module):\n",
        "\n",
        "  def __init__(self,input_size,hidden_size,out_size,k):\n",
        "    super().__init__()\n",
        "    self.k = k\n",
        "    self.linear1 = nn.Linear(input_size,hidden_size)\n",
        "    self.linear2 = nn.Linear(hidden_size,out_size)\n",
        "\n",
        "  def forward(self,vb):\n",
        "    # vb = vb.view(vb.size(0),-1)\n",
        "    vb = vb.view(-1,input_size)\n",
        "    # print('vbow shape:',vb.shape)\n",
        "    out = self.linear1(vb)\n",
        "    out = F.relu(out)\n",
        "    out = self.linear2(out)\n",
        "    return out\n",
        "\n",
        "  def training_step(self,batch):\n",
        "    vbow,labels = prepareBOW(batch,self.k)\n",
        "    out = self(vbow)\n",
        "    # print('Out shape:',out.shape)\n",
        "    # print('labels shape:',labels.shape)\n",
        "    loss = F.cross_entropy(out,labels)\n",
        "    return loss\n",
        "\n",
        "  def validation_step(self,batch):\n",
        "    vbow,labels = prepareBOW(batch,self.k)\n",
        "    out = self(vbow)\n",
        "    # print('Out shape:',out.shape)\n",
        "    # print('labels shape:',labels.shape)\n",
        "    loss = F.cross_entropy(out,labels)\n",
        "    acc = accuracy(out,labels)\n",
        "    return {'val_loss' : loss, 'val_acc' : acc }\n",
        "\n",
        "  def validation_epoch_end(self,outputs):\n",
        "    batch_losses = [x['val_loss'] for x in outputs]\n",
        "    epoch_loss = torch.stack(batch_losses).mean()\n",
        "    batch_accs = [x['val_acc'] for x in outputs]\n",
        "    epoch_acc = torch.stack(batch_accs).mean()\n",
        "    return {'val_loss' : epoch_loss.item(), 'val_acc' : epoch_acc.item() }\n",
        "    \n",
        "  def epoch_end(self, epoch, result):\n",
        "    print(\"Epoch [{}], val_loss: {:.4f}, val_acc: {:.4f}\".format(epoch, result['val_loss'], result['val_acc']))\n"
      ],
      "execution_count": null,
      "outputs": []
    },
    {
      "cell_type": "code",
      "metadata": {
        "id": "1OyB5o5AC332",
        "colab_type": "code",
        "colab": {}
      },
      "source": [
        "def prepareBOW(batch,k=8):\n",
        "  descriptor = cv2.xfeatures2d.SIFT_create()\n",
        "  images,labels = batch\n",
        "  # print('images shape:',images.shape)\n",
        "  # print('lbls shape:',labels.shape)\n",
        "  descs = None\n",
        "  batch_feat = []\n",
        "  for i in images:\n",
        "    feat = getDescriptor(i,descriptor)\n",
        "    kp,d = feat\n",
        "    # print(len(d))\n",
        "    batch_feat.append(d)\n",
        "    # if descs is None:\n",
        "    #   descs = np.array(d, dtype=np.float32)\n",
        "    # else:\n",
        "    #   descs = np.vstack((descs, np.array(d)))\n",
        "  # print(descs.shape)\n",
        "  # print(len(batch_feat))\n",
        "  # klabels, kcentres = genCodebook(descs,k)\n",
        "  # print('kcentres.shape:',kcentres.shape)\n",
        "  # print('len(batch_feat):',len(batch_feat))\n",
        "  # print('Max: {}, Min label:{}'.format(max(klabels),min(labels)))\n",
        "  # vbow = bowVector(batch_feat,kcentres,klabels)\n",
        "  # print(vbow[0])\n",
        "  # print(vbow.size(0))\n",
        "  # sparsity(vbow)\n",
        "  vbow=torch.as_tensor(np.array(batch_feat))\n",
        "  # print(vbow.view(-1,16*128).shape)\n",
        "  data = (vbow,torch.as_tensor(labels))\n",
        "  data = to_device(data,device)\n",
        "  return data\n"
      ],
      "execution_count": null,
      "outputs": []
    },
    {
      "cell_type": "code",
      "metadata": {
        "id": "CwewEoGDgT5p",
        "colab_type": "code",
        "colab": {
          "base_uri": "https://localhost:8080/",
          "height": 85
        },
        "outputId": "1fda562c-0be5-4c6b-cfa6-19830863ec89"
      },
      "source": [
        "input_size = 16 * 128\n",
        "clusters = 16 #same as k\n",
        "num_classes = len(classes)\n",
        "\n",
        "model = CifarModel(input_size, hidden_size=128,out_size=num_classes,k=clusters)\n",
        "\n",
        "to_device(model, device)"
      ],
      "execution_count": null,
      "outputs": [
        {
          "output_type": "execute_result",
          "data": {
            "text/plain": [
              "CifarModel(\n",
              "  (linear1): Linear(in_features=2048, out_features=128, bias=True)\n",
              "  (linear2): Linear(in_features=128, out_features=10, bias=True)\n",
              ")"
            ]
          },
          "metadata": {
            "tags": []
          },
          "execution_count": 23
        }
      ]
    },
    {
      "cell_type": "code",
      "metadata": {
        "id": "EsUoqFHLa6O4",
        "colab_type": "code",
        "colab": {}
      },
      "source": [
        "# for batch in train_dl:\n",
        "#   d=prepareBOW(batch)\n",
        "#   break"
      ],
      "execution_count": null,
      "outputs": []
    },
    {
      "cell_type": "code",
      "metadata": {
        "id": "-U7-j9Rg5-iv",
        "colab_type": "code",
        "colab": {}
      },
      "source": [
        "def evaluate(model, valid_loader):\n",
        "    outputs = [model.validation_step(batch) for batch in valid_loader]\n",
        "    return model.validation_epoch_end(outputs)"
      ],
      "execution_count": null,
      "outputs": []
    },
    {
      "cell_type": "code",
      "metadata": {
        "id": "IZr6hEZV1NvF",
        "colab_type": "code",
        "colab": {}
      },
      "source": [
        "def fit(model,train_loader,valid_loader,epochs,opt_fn,lr):\n",
        "  history = []\n",
        "  opt = opt_fn(model.parameters(),lr)  \n",
        "  \n",
        "  for epoch in range(epochs):\n",
        "    #For Training\n",
        "    for batch in train_loader:\n",
        "      loss = model.training_step(batch)\n",
        "      # print('\\n')Adam\n",
        "      loss.backward()\n",
        "      opt.step()\n",
        "      opt.zero_grad()\n",
        "    \n",
        "    #For validation\n",
        "    result = evaluate(model, valid_loader)\n",
        "    if(epoch+1)%1==0:\n",
        "      model.epoch_end(epoch+1,result)\n",
        "    history.append(result)\n",
        "  return history    \n"
      ],
      "execution_count": null,
      "outputs": []
    },
    {
      "cell_type": "code",
      "metadata": {
        "id": "pl1vnvFTbNse",
        "colab_type": "code",
        "colab": {
          "base_uri": "https://localhost:8080/",
          "height": 527
        },
        "outputId": "99c07261-6b55-43c8-c6ca-e346af2f0d94"
      },
      "source": [
        "history = fit(model,train_dl,val_dl,30,torch.optim.SGD,0.0005)"
      ],
      "execution_count": null,
      "outputs": [
        {
          "output_type": "stream",
          "text": [
            "Epoch [1], val_loss: 1.9386, val_acc: 0.2843\n",
            "Epoch [2], val_loss: 1.8459, val_acc: 0.3213\n",
            "Epoch [3], val_loss: 1.8030, val_acc: 0.3411\n",
            "Epoch [4], val_loss: 1.7752, val_acc: 0.3577\n",
            "Epoch [5], val_loss: 1.7689, val_acc: 0.3695\n",
            "Epoch [6], val_loss: 1.7174, val_acc: 0.3826\n",
            "Epoch [7], val_loss: 1.6994, val_acc: 0.3792\n",
            "Epoch [8], val_loss: 1.6440, val_acc: 0.4033\n",
            "Epoch [9], val_loss: 1.6480, val_acc: 0.4055\n",
            "Epoch [10], val_loss: 1.6771, val_acc: 0.3992\n",
            "Epoch [11], val_loss: 1.7375, val_acc: 0.3945\n",
            "Epoch [12], val_loss: 1.5890, val_acc: 0.4401\n",
            "Epoch [13], val_loss: 1.6046, val_acc: 0.4299\n",
            "Epoch [14], val_loss: 1.5731, val_acc: 0.4380\n",
            "Epoch [15], val_loss: 1.6136, val_acc: 0.4289\n",
            "Epoch [16], val_loss: 1.6008, val_acc: 0.4341\n",
            "Epoch [17], val_loss: 1.5581, val_acc: 0.4450\n",
            "Epoch [18], val_loss: 1.5913, val_acc: 0.4359\n",
            "Epoch [19], val_loss: 1.5793, val_acc: 0.4379\n",
            "Epoch [20], val_loss: 1.5526, val_acc: 0.4485\n",
            "Epoch [21], val_loss: 1.5452, val_acc: 0.4563\n",
            "Epoch [22], val_loss: 1.5373, val_acc: 0.4533\n",
            "Epoch [23], val_loss: 1.5718, val_acc: 0.4490\n",
            "Epoch [24], val_loss: 1.5366, val_acc: 0.4640\n",
            "Epoch [25], val_loss: 1.5788, val_acc: 0.4456\n",
            "Epoch [26], val_loss: 1.5205, val_acc: 0.4645\n",
            "Epoch [27], val_loss: 1.5925, val_acc: 0.4411\n",
            "Epoch [28], val_loss: 1.5119, val_acc: 0.4677\n",
            "Epoch [29], val_loss: 1.5300, val_acc: 0.4660\n",
            "Epoch [30], val_loss: 1.5247, val_acc: 0.4642\n"
          ],
          "name": "stdout"
        }
      ]
    },
    {
      "cell_type": "code",
      "metadata": {
        "id": "4cJgLuJ6Ttod",
        "colab_type": "code",
        "colab": {}
      },
      "source": [
        "torch.save(model.state_dict(),'cifar_sift.pth')"
      ],
      "execution_count": null,
      "outputs": []
    },
    {
      "cell_type": "code",
      "metadata": {
        "id": "6zZHCHQPT0qL",
        "colab_type": "code",
        "colab": {}
      },
      "source": [
        "# model2 = CifarModel()\n",
        "# model2.load_state_dict(torch.load('cifar_sift.pth'))\n",
        "# model2.state_dict()"
      ],
      "execution_count": null,
      "outputs": []
    },
    {
      "cell_type": "code",
      "metadata": {
        "id": "eAID6CALFtB7",
        "colab_type": "code",
        "colab": {}
      },
      "source": [
        "test_dataset = ImageFolder(data_dir+'/test', transform=data_transform)"
      ],
      "execution_count": null,
      "outputs": []
    },
    {
      "cell_type": "code",
      "metadata": {
        "id": "NASIT-X6Qw9B",
        "colab_type": "code",
        "colab": {}
      },
      "source": [
        "test_dl = DataLoader(test_dataset, batch_size=256)"
      ],
      "execution_count": null,
      "outputs": []
    },
    {
      "cell_type": "code",
      "metadata": {
        "id": "SCsHeMM_REZA",
        "colab_type": "code",
        "colab": {}
      },
      "source": [
        "test_result = evaluate(model,test_dl)"
      ],
      "execution_count": null,
      "outputs": []
    },
    {
      "cell_type": "code",
      "metadata": {
        "id": "oq-N_gADSV4k",
        "colab_type": "code",
        "colab": {
          "base_uri": "https://localhost:8080/",
          "height": 34
        },
        "outputId": "1b01e958-5f04-4872-e46e-850346ca4f6a"
      },
      "source": [
        "print(\"test_loss: {:.4f}, test_acc: {:.4f}\".format(test_result['val_loss'], test_result['val_acc']))"
      ],
      "execution_count": null,
      "outputs": [
        {
          "output_type": "stream",
          "text": [
            "test_loss: 1.5153, test_acc: 0.4752\n"
          ],
          "name": "stdout"
        }
      ]
    },
    {
      "cell_type": "code",
      "metadata": {
        "id": "t1W9NpzJXLmR",
        "colab_type": "code",
        "colab": {}
      },
      "source": [
        ""
      ],
      "execution_count": null,
      "outputs": []
    }
  ]
}