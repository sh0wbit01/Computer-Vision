{
  "nbformat": 4,
  "nbformat_minor": 0,
  "metadata": {
    "colab": {
      "name": "Object Recognition with pretrained AlexNet.ipynb",
      "provenance": [],
      "collapsed_sections": []
    },
    "kernelspec": {
      "name": "python3",
      "display_name": "Python 3"
    },
    "accelerator": "GPU",
    "widgets": {
      "application/vnd.jupyter.widget-state+json": {
        "f999901d6f4240839f469d10d51f7d88": {
          "model_module": "@jupyter-widgets/controls",
          "model_name": "HBoxModel",
          "state": {
            "_view_name": "HBoxView",
            "_dom_classes": [],
            "_model_name": "HBoxModel",
            "_view_module": "@jupyter-widgets/controls",
            "_model_module_version": "1.5.0",
            "_view_count": null,
            "_view_module_version": "1.5.0",
            "box_style": "",
            "layout": "IPY_MODEL_23bcf3b479ff497abfceb94ae38ce44d",
            "_model_module": "@jupyter-widgets/controls",
            "children": [
              "IPY_MODEL_d7bd641fcc18422ea521e0fec80ce9ad",
              "IPY_MODEL_aaa17b21e3524e168c3df9e452354d73"
            ]
          }
        },
        "23bcf3b479ff497abfceb94ae38ce44d": {
          "model_module": "@jupyter-widgets/base",
          "model_name": "LayoutModel",
          "state": {
            "_view_name": "LayoutView",
            "grid_template_rows": null,
            "right": null,
            "justify_content": null,
            "_view_module": "@jupyter-widgets/base",
            "overflow": null,
            "_model_module_version": "1.2.0",
            "_view_count": null,
            "flex_flow": null,
            "width": null,
            "min_width": null,
            "border": null,
            "align_items": null,
            "bottom": null,
            "_model_module": "@jupyter-widgets/base",
            "top": null,
            "grid_column": null,
            "overflow_y": null,
            "overflow_x": null,
            "grid_auto_flow": null,
            "grid_area": null,
            "grid_template_columns": null,
            "flex": null,
            "_model_name": "LayoutModel",
            "justify_items": null,
            "grid_row": null,
            "max_height": null,
            "align_content": null,
            "visibility": null,
            "align_self": null,
            "height": null,
            "min_height": null,
            "padding": null,
            "grid_auto_rows": null,
            "grid_gap": null,
            "max_width": null,
            "order": null,
            "_view_module_version": "1.2.0",
            "grid_template_areas": null,
            "object_position": null,
            "object_fit": null,
            "grid_auto_columns": null,
            "margin": null,
            "display": null,
            "left": null
          }
        },
        "d7bd641fcc18422ea521e0fec80ce9ad": {
          "model_module": "@jupyter-widgets/controls",
          "model_name": "FloatProgressModel",
          "state": {
            "_view_name": "ProgressView",
            "style": "IPY_MODEL_f2ec9f721dc64e7ab063c1bcad86c577",
            "_dom_classes": [],
            "description": "100%",
            "_model_name": "FloatProgressModel",
            "bar_style": "success",
            "max": 244418560,
            "_view_module": "@jupyter-widgets/controls",
            "_model_module_version": "1.5.0",
            "value": 244418560,
            "_view_count": null,
            "_view_module_version": "1.5.0",
            "orientation": "horizontal",
            "min": 0,
            "description_tooltip": null,
            "_model_module": "@jupyter-widgets/controls",
            "layout": "IPY_MODEL_b5b9d1d860ba42a0927d12726acd66d0"
          }
        },
        "aaa17b21e3524e168c3df9e452354d73": {
          "model_module": "@jupyter-widgets/controls",
          "model_name": "HTMLModel",
          "state": {
            "_view_name": "HTMLView",
            "style": "IPY_MODEL_48e7a33f9d3d4e6a93e894912a4199f2",
            "_dom_classes": [],
            "description": "",
            "_model_name": "HTMLModel",
            "placeholder": "​",
            "_view_module": "@jupyter-widgets/controls",
            "_model_module_version": "1.5.0",
            "value": " 233M/233M [55:07&lt;00:00, 73.9kB/s]",
            "_view_count": null,
            "_view_module_version": "1.5.0",
            "description_tooltip": null,
            "_model_module": "@jupyter-widgets/controls",
            "layout": "IPY_MODEL_cb1cb61c4c604008b006d1984c61af54"
          }
        },
        "f2ec9f721dc64e7ab063c1bcad86c577": {
          "model_module": "@jupyter-widgets/controls",
          "model_name": "ProgressStyleModel",
          "state": {
            "_view_name": "StyleView",
            "_model_name": "ProgressStyleModel",
            "description_width": "initial",
            "_view_module": "@jupyter-widgets/base",
            "_model_module_version": "1.5.0",
            "_view_count": null,
            "_view_module_version": "1.2.0",
            "bar_color": null,
            "_model_module": "@jupyter-widgets/controls"
          }
        },
        "b5b9d1d860ba42a0927d12726acd66d0": {
          "model_module": "@jupyter-widgets/base",
          "model_name": "LayoutModel",
          "state": {
            "_view_name": "LayoutView",
            "grid_template_rows": null,
            "right": null,
            "justify_content": null,
            "_view_module": "@jupyter-widgets/base",
            "overflow": null,
            "_model_module_version": "1.2.0",
            "_view_count": null,
            "flex_flow": null,
            "width": null,
            "min_width": null,
            "border": null,
            "align_items": null,
            "bottom": null,
            "_model_module": "@jupyter-widgets/base",
            "top": null,
            "grid_column": null,
            "overflow_y": null,
            "overflow_x": null,
            "grid_auto_flow": null,
            "grid_area": null,
            "grid_template_columns": null,
            "flex": null,
            "_model_name": "LayoutModel",
            "justify_items": null,
            "grid_row": null,
            "max_height": null,
            "align_content": null,
            "visibility": null,
            "align_self": null,
            "height": null,
            "min_height": null,
            "padding": null,
            "grid_auto_rows": null,
            "grid_gap": null,
            "max_width": null,
            "order": null,
            "_view_module_version": "1.2.0",
            "grid_template_areas": null,
            "object_position": null,
            "object_fit": null,
            "grid_auto_columns": null,
            "margin": null,
            "display": null,
            "left": null
          }
        },
        "48e7a33f9d3d4e6a93e894912a4199f2": {
          "model_module": "@jupyter-widgets/controls",
          "model_name": "DescriptionStyleModel",
          "state": {
            "_view_name": "StyleView",
            "_model_name": "DescriptionStyleModel",
            "description_width": "",
            "_view_module": "@jupyter-widgets/base",
            "_model_module_version": "1.5.0",
            "_view_count": null,
            "_view_module_version": "1.2.0",
            "_model_module": "@jupyter-widgets/controls"
          }
        },
        "cb1cb61c4c604008b006d1984c61af54": {
          "model_module": "@jupyter-widgets/base",
          "model_name": "LayoutModel",
          "state": {
            "_view_name": "LayoutView",
            "grid_template_rows": null,
            "right": null,
            "justify_content": null,
            "_view_module": "@jupyter-widgets/base",
            "overflow": null,
            "_model_module_version": "1.2.0",
            "_view_count": null,
            "flex_flow": null,
            "width": null,
            "min_width": null,
            "border": null,
            "align_items": null,
            "bottom": null,
            "_model_module": "@jupyter-widgets/base",
            "top": null,
            "grid_column": null,
            "overflow_y": null,
            "overflow_x": null,
            "grid_auto_flow": null,
            "grid_area": null,
            "grid_template_columns": null,
            "flex": null,
            "_model_name": "LayoutModel",
            "justify_items": null,
            "grid_row": null,
            "max_height": null,
            "align_content": null,
            "visibility": null,
            "align_self": null,
            "height": null,
            "min_height": null,
            "padding": null,
            "grid_auto_rows": null,
            "grid_gap": null,
            "max_width": null,
            "order": null,
            "_view_module_version": "1.2.0",
            "grid_template_areas": null,
            "object_position": null,
            "object_fit": null,
            "grid_auto_columns": null,
            "margin": null,
            "display": null,
            "left": null
          }
        }
      }
    }
  },
  "cells": [
    {
      "cell_type": "code",
      "metadata": {
        "id": "VK_eif3f5XES",
        "colab_type": "code",
        "colab": {}
      },
      "source": [
        "import os\n",
        "import numpy as np\n",
        "import matplotlib.pyplot as plt\n",
        "import torch\n",
        "import torchvision\n",
        "from torchvision import transforms, models\n",
        "from torch.utils.data.sampler import SubsetRandomSampler\n",
        "from torch.utils.data.dataloader import DataLoader\n",
        "from torchvision.datasets import ImageFolder\n",
        "import torch.nn as nn\n",
        "import torch.nn.functional as F\n",
        "import cv2\n",
        "import copy"
      ],
      "execution_count": null,
      "outputs": []
    },
    {
      "cell_type": "code",
      "metadata": {
        "id": "d-f5fZY5ZQVG",
        "colab_type": "code",
        "colab": {
          "base_uri": "https://localhost:8080/",
          "height": 196
        },
        "outputId": "b765a9e2-6bab-4788-f6da-be17e6d4456b"
      },
      "source": [
        "!wget 'http://files.fast.ai/data/cifar10.tgz'\n",
        "!tar -xf cifar10.tgz"
      ],
      "execution_count": null,
      "outputs": [
        {
          "output_type": "stream",
          "text": [
            "--2020-06-12 10:30:56--  http://files.fast.ai/data/cifar10.tgz\n",
            "Resolving files.fast.ai (files.fast.ai)... 67.205.15.147\n",
            "Connecting to files.fast.ai (files.fast.ai)|67.205.15.147|:80... connected.\n",
            "HTTP request sent, awaiting response... 200 OK\n",
            "Length: 168168549 (160M) [application/x-gtar-compressed]\n",
            "Saving to: ‘cifar10.tgz’\n",
            "\n",
            "cifar10.tgz         100%[===================>] 160.38M  43.0MB/s    in 4.2s    \n",
            "\n",
            "2020-06-12 10:31:00 (38.4 MB/s) - ‘cifar10.tgz’ saved [168168549/168168549]\n",
            "\n"
          ],
          "name": "stdout"
        }
      ]
    },
    {
      "cell_type": "code",
      "metadata": {
        "id": "0W1mLn7mZqFp",
        "colab_type": "code",
        "colab": {}
      },
      "source": [
        "device = torch.device(\"cuda:0\" if torch.cuda.is_available() else \"cpu\")"
      ],
      "execution_count": null,
      "outputs": []
    },
    {
      "cell_type": "code",
      "metadata": {
        "id": "lmFjfdI1aBJx",
        "colab_type": "code",
        "colab": {
          "base_uri": "https://localhost:8080/",
          "height": 33
        },
        "outputId": "27f16bac-3135-4473-d57f-a03f818034ab"
      },
      "source": [
        "device"
      ],
      "execution_count": null,
      "outputs": [
        {
          "output_type": "execute_result",
          "data": {
            "text/plain": [
              "device(type='cuda', index=0)"
            ]
          },
          "metadata": {
            "tags": []
          },
          "execution_count": 4
        }
      ]
    },
    {
      "cell_type": "code",
      "metadata": {
        "id": "fxZQgbzjaCch",
        "colab_type": "code",
        "colab": {}
      },
      "source": [
        "def to_device(data, device):\n",
        "    \"\"\"Move tensor(s) to chosen device\"\"\"\n",
        "    if isinstance(data, (list,tuple)):\n",
        "        return [to_device(x, device) for x in data]\n",
        "    return data.to(device, non_blocking=True)"
      ],
      "execution_count": null,
      "outputs": []
    },
    {
      "cell_type": "code",
      "metadata": {
        "id": "g0zWnP-uaFpm",
        "colab_type": "code",
        "colab": {
          "base_uri": "https://localhost:8080/",
          "height": 50
        },
        "outputId": "6a4d4df1-70f0-49df-b10e-0115eadd691e"
      },
      "source": [
        "data_dir = '/content/cifar10'\n",
        "\n",
        "print(os.listdir(data_dir))\n",
        "classes = sorted(os.listdir(data_dir + \"/train\"))\n",
        "print(classes)"
      ],
      "execution_count": null,
      "outputs": [
        {
          "output_type": "stream",
          "text": [
            "['labels.txt', 'train', 'test']\n",
            "['airplane', 'automobile', 'bird', 'cat', 'deer', 'dog', 'frog', 'horse', 'ship', 'truck']\n"
          ],
          "name": "stdout"
        }
      ]
    },
    {
      "cell_type": "code",
      "metadata": {
        "id": "tX36DJnxfA_s",
        "colab_type": "code",
        "colab": {}
      },
      "source": [
        "input_size = 224"
      ],
      "execution_count": null,
      "outputs": []
    },
    {
      "cell_type": "code",
      "metadata": {
        "id": "aXTOTlvuaJMB",
        "colab_type": "code",
        "colab": {}
      },
      "source": [
        "data_transform = transforms.Compose([transforms.Resize(input_size),transforms.ToTensor(),transforms.Normalize((0.4914, 0.4822, 0.4465), (0.2023, 0.1994, 0.2010))])\n",
        "\n",
        "dataset = ImageFolder(data_dir+'/train',   transform=data_transform)"
      ],
      "execution_count": null,
      "outputs": []
    },
    {
      "cell_type": "code",
      "metadata": {
        "id": "6DUuTJA1e82m",
        "colab_type": "code",
        "colab": {}
      },
      "source": [
        "def split_indices(n, val_pct, seed):\n",
        "    # Determine size of validation set\n",
        "    n_val = int(val_pct*n)\n",
        "    # Set the random seed (for reproducibility)\n",
        "    np.random.seed(seed)\n",
        "    # Create random permutation of 0 to n-1\n",
        "    idxs = np.random.permutation(n)\n",
        "    # Pick first n_val indices for validation set\n",
        "    return idxs[n_val:], idxs[:n_val]"
      ],
      "execution_count": null,
      "outputs": []
    },
    {
      "cell_type": "code",
      "metadata": {
        "id": "WQppB3cbiwMR",
        "colab_type": "code",
        "colab": {
          "base_uri": "https://localhost:8080/",
          "height": 50
        },
        "outputId": "49b02215-1f58-4d46-b104-c669a02f6edd"
      },
      "source": [
        "val_pct = 0.2\n",
        "rand_seed = 42\n",
        "\n",
        "train_indices, val_indices = split_indices(len(dataset), val_pct, rand_seed)\n",
        "print(len(train_indices), len(val_indices))\n",
        "print('Sample validation indices: ', val_indices[:10])"
      ],
      "execution_count": null,
      "outputs": [
        {
          "output_type": "stream",
          "text": [
            "40000 10000\n",
            "Sample validation indices:  [33553  9427   199 12447 39489 42724 10822 49498  4144 36958]\n"
          ],
          "name": "stdout"
        }
      ]
    },
    {
      "cell_type": "code",
      "metadata": {
        "id": "-6XJ5pdeiylx",
        "colab_type": "code",
        "colab": {}
      },
      "source": [
        "batch_size=128\n",
        "\n",
        "# Training sampler and data loader\n",
        "train_sampler = SubsetRandomSampler(train_indices)\n",
        "train_dl = DataLoader(dataset, \n",
        "                      batch_size, \n",
        "                      sampler=train_sampler,num_workers=2)\n",
        "\n",
        "# Validation sampler and data loader\n",
        "val_sampler = SubsetRandomSampler(val_indices)\n",
        "val_dl = DataLoader(dataset,\n",
        "                    batch_size, \n",
        "                    sampler=val_sampler,num_workers=2)"
      ],
      "execution_count": null,
      "outputs": []
    },
    {
      "cell_type": "code",
      "metadata": {
        "id": "GAsm0W6sjNj9",
        "colab_type": "code",
        "colab": {
          "base_uri": "https://localhost:8080/",
          "height": 163
        },
        "outputId": "c2dd03a6-39d3-44f9-a60d-b947db1ca711"
      },
      "source": [
        "dataset"
      ],
      "execution_count": null,
      "outputs": [
        {
          "output_type": "execute_result",
          "data": {
            "text/plain": [
              "Dataset ImageFolder\n",
              "    Number of datapoints: 50000\n",
              "    Root location: /content/cifar10/train\n",
              "    StandardTransform\n",
              "Transform: Compose(\n",
              "               Resize(size=224, interpolation=PIL.Image.BILINEAR)\n",
              "               ToTensor()\n",
              "               Normalize(mean=(0.4914, 0.4822, 0.4465), std=(0.2023, 0.1994, 0.201))\n",
              "           )"
            ]
          },
          "metadata": {
            "tags": []
          },
          "execution_count": 12
        }
      ]
    },
    {
      "cell_type": "code",
      "metadata": {
        "id": "mn6D6wBti1a4",
        "colab_type": "code",
        "colab": {
          "base_uri": "https://localhost:8080/",
          "height": 317
        },
        "outputId": "0b0273f8-1633-46c5-fa3c-16a8e995d745"
      },
      "source": [
        "img,label = dataset[50]\n",
        "print(\"Label: \",classes[label])\n",
        "plt.imshow(np.array(img.squeeze().permute(1,2,0)))\n"
      ],
      "execution_count": null,
      "outputs": [
        {
          "output_type": "stream",
          "text": [
            "Clipping input data to the valid range for imshow with RGB data ([0..1] for floats or [0..255] for integers).\n"
          ],
          "name": "stderr"
        },
        {
          "output_type": "stream",
          "text": [
            "Label:  airplane\n"
          ],
          "name": "stdout"
        },
        {
          "output_type": "execute_result",
          "data": {
            "text/plain": [
              "<matplotlib.image.AxesImage at 0x7fb15b1f0208>"
            ]
          },
          "metadata": {
            "tags": []
          },
          "execution_count": 13
        },
        {
          "output_type": "display_data",
          "data": {
            "image/png": "[encoded data removed]",
            "text/plain": [
              "<Figure size 432x288 with 1 Axes>"
            ]
          },
          "metadata": {
            "tags": [],
            "needs_background": "light"
          }
        }
      ]
    },
    {
      "cell_type": "code",
      "metadata": {
        "id": "ITF3oVnni3cY",
        "colab_type": "code",
        "colab": {
          "base_uri": "https://localhost:8080/",
          "height": 81,
          "referenced_widgets": [
            "f999901d6f4240839f469d10d51f7d88",
            "23bcf3b479ff497abfceb94ae38ce44d",
            "d7bd641fcc18422ea521e0fec80ce9ad",
            "aaa17b21e3524e168c3df9e452354d73",
            "f2ec9f721dc64e7ab063c1bcad86c577",
            "b5b9d1d860ba42a0927d12726acd66d0",
            "48e7a33f9d3d4e6a93e894912a4199f2",
            "cb1cb61c4c604008b006d1984c61af54"
          ]
        },
        "outputId": "f31657b2-98b1-4a5d-ede7-38ba4b369533"
      },
      "source": [
        "model = models.alexnet(pretrained=True,progress=True)"
      ],
      "execution_count": null,
      "outputs": [
        {
          "output_type": "stream",
          "text": [
            "Downloading: \"https://download.pytorch.org/models/alexnet-owt-4df8aa71.pth\" to /root/.cache/torch/checkpoints/alexnet-owt-4df8aa71.pth\n"
          ],
          "name": "stderr"
        },
        {
          "output_type": "display_data",
          "data": {
            "application/vnd.jupyter.widget-view+json": {
              "model_id": "f999901d6f4240839f469d10d51f7d88",
              "version_minor": 0,
              "version_major": 2
            },
            "text/plain": [
              "HBox(children=(FloatProgress(value=0.0, max=244418560.0), HTML(value='')))"
            ]
          },
          "metadata": {
            "tags": []
          }
        },
        {
          "output_type": "stream",
          "text": [
            "\n"
          ],
          "name": "stdout"
        }
      ]
    },
    {
      "cell_type": "code",
      "metadata": {
        "id": "XyqA3ce4-282",
        "colab_type": "code",
        "colab": {
          "base_uri": "https://localhost:8080/",
          "height": 456
        },
        "outputId": "88d767f1-8f6e-4ee5-bf58-747f1dac0ea5"
      },
      "source": [
        "model"
      ],
      "execution_count": null,
      "outputs": [
        {
          "output_type": "execute_result",
          "data": {
            "text/plain": [
              "AlexNet(\n",
              "  (features): Sequential(\n",
              "    (0): Conv2d(3, 64, kernel_size=(11, 11), stride=(4, 4), padding=(2, 2))\n",
              "    (1): ReLU(inplace=True)\n",
              "    (2): MaxPool2d(kernel_size=3, stride=2, padding=0, dilation=1, ceil_mode=False)\n",
              "    (3): Conv2d(64, 192, kernel_size=(5, 5), stride=(1, 1), padding=(2, 2))\n",
              "    (4): ReLU(inplace=True)\n",
              "    (5): MaxPool2d(kernel_size=3, stride=2, padding=0, dilation=1, ceil_mode=False)\n",
              "    (6): Conv2d(192, 384, kernel_size=(3, 3), stride=(1, 1), padding=(1, 1))\n",
              "    (7): ReLU(inplace=True)\n",
              "    (8): Conv2d(384, 256, kernel_size=(3, 3), stride=(1, 1), padding=(1, 1))\n",
              "    (9): ReLU(inplace=True)\n",
              "    (10): Conv2d(256, 256, kernel_size=(3, 3), stride=(1, 1), padding=(1, 1))\n",
              "    (11): ReLU(inplace=True)\n",
              "    (12): MaxPool2d(kernel_size=3, stride=2, padding=0, dilation=1, ceil_mode=False)\n",
              "  )\n",
              "  (avgpool): AdaptiveAvgPool2d(output_size=(6, 6))\n",
              "  (classifier): Sequential(\n",
              "    (0): Dropout(p=0.5, inplace=False)\n",
              "    (1): Linear(in_features=9216, out_features=4096, bias=True)\n",
              "    (2): ReLU(inplace=True)\n",
              "    (3): Dropout(p=0.5, inplace=False)\n",
              "    (4): Linear(in_features=4096, out_features=4096, bias=True)\n",
              "    (5): ReLU(inplace=True)\n",
              "    (6): Linear(in_features=4096, out_features=1000, bias=True)\n",
              "  )\n",
              ")"
            ]
          },
          "metadata": {
            "tags": []
          },
          "execution_count": 15
        }
      ]
    },
    {
      "cell_type": "code",
      "metadata": {
        "id": "PQOZVymP-89E",
        "colab_type": "code",
        "colab": {}
      },
      "source": [
        "#Freezing Layers\n",
        "for param in model.parameters():\n",
        "  param.requires_grad = False"
      ],
      "execution_count": null,
      "outputs": []
    },
    {
      "cell_type": "code",
      "metadata": {
        "id": "SePsld1JAFy_",
        "colab_type": "code",
        "colab": {
          "base_uri": "https://localhost:8080/",
          "height": 33
        },
        "outputId": "76edba2b-2fb1-4187-8e5e-53f0ab2fed8f"
      },
      "source": [
        "num_in_features = model.classifier[6].in_features\n",
        "num_in_features"
      ],
      "execution_count": null,
      "outputs": [
        {
          "output_type": "execute_result",
          "data": {
            "text/plain": [
              "4096"
            ]
          },
          "metadata": {
            "tags": []
          },
          "execution_count": 17
        }
      ]
    },
    {
      "cell_type": "code",
      "metadata": {
        "id": "hGp6rKeABtR2",
        "colab_type": "code",
        "colab": {}
      },
      "source": [
        "hidden_size = 2752\n",
        "num_classes = len(classes)"
      ],
      "execution_count": null,
      "outputs": []
    },
    {
      "cell_type": "code",
      "metadata": {
        "id": "F4afBwBnA18q",
        "colab_type": "code",
        "colab": {}
      },
      "source": [
        "fc_layers = nn.Sequential(\n",
        "    nn.Linear(num_in_features,hidden_size),\n",
        "    nn.ReLU(inplace=True),\n",
        "    nn.Linear(hidden_size,num_classes)\n",
        ")"
      ],
      "execution_count": null,
      "outputs": []
    },
    {
      "cell_type": "code",
      "metadata": {
        "id": "MRin6q3jB7iJ",
        "colab_type": "code",
        "colab": {}
      },
      "source": [
        "# Adding 2 layer NN to AlexNet model's classifier layer\n",
        "model.classifier[6] = fc_layers\n"
      ],
      "execution_count": null,
      "outputs": []
    },
    {
      "cell_type": "code",
      "metadata": {
        "id": "SQnznZ_9Cij6",
        "colab_type": "code",
        "colab": {
          "base_uri": "https://localhost:8080/",
          "height": 521
        },
        "outputId": "d8feb524-f283-4e17-d8df-a759fb14015c"
      },
      "source": [
        "#Updated Model\n",
        "to_device(model,device)\n",
        "model"
      ],
      "execution_count": null,
      "outputs": [
        {
          "output_type": "execute_result",
          "data": {
            "text/plain": [
              "AlexNet(\n",
              "  (features): Sequential(\n",
              "    (0): Conv2d(3, 64, kernel_size=(11, 11), stride=(4, 4), padding=(2, 2))\n",
              "    (1): ReLU(inplace=True)\n",
              "    (2): MaxPool2d(kernel_size=3, stride=2, padding=0, dilation=1, ceil_mode=False)\n",
              "    (3): Conv2d(64, 192, kernel_size=(5, 5), stride=(1, 1), padding=(2, 2))\n",
              "    (4): ReLU(inplace=True)\n",
              "    (5): MaxPool2d(kernel_size=3, stride=2, padding=0, dilation=1, ceil_mode=False)\n",
              "    (6): Conv2d(192, 384, kernel_size=(3, 3), stride=(1, 1), padding=(1, 1))\n",
              "    (7): ReLU(inplace=True)\n",
              "    (8): Conv2d(384, 256, kernel_size=(3, 3), stride=(1, 1), padding=(1, 1))\n",
              "    (9): ReLU(inplace=True)\n",
              "    (10): Conv2d(256, 256, kernel_size=(3, 3), stride=(1, 1), padding=(1, 1))\n",
              "    (11): ReLU(inplace=True)\n",
              "    (12): MaxPool2d(kernel_size=3, stride=2, padding=0, dilation=1, ceil_mode=False)\n",
              "  )\n",
              "  (avgpool): AdaptiveAvgPool2d(output_size=(6, 6))\n",
              "  (classifier): Sequential(\n",
              "    (0): Dropout(p=0.5, inplace=False)\n",
              "    (1): Linear(in_features=9216, out_features=4096, bias=True)\n",
              "    (2): ReLU(inplace=True)\n",
              "    (3): Dropout(p=0.5, inplace=False)\n",
              "    (4): Linear(in_features=4096, out_features=4096, bias=True)\n",
              "    (5): ReLU(inplace=True)\n",
              "    (6): Sequential(\n",
              "      (0): Linear(in_features=4096, out_features=2752, bias=True)\n",
              "      (1): ReLU(inplace=True)\n",
              "      (2): Linear(in_features=2752, out_features=10, bias=True)\n",
              "    )\n",
              "  )\n",
              ")"
            ]
          },
          "metadata": {
            "tags": []
          },
          "execution_count": 21
        }
      ]
    },
    {
      "cell_type": "code",
      "metadata": {
        "id": "euxYsOLIClyS",
        "colab_type": "code",
        "colab": {
          "base_uri": "https://localhost:8080/",
          "height": 98
        },
        "outputId": "eb572c4f-f253-41c1-c7b7-b2fb439d89f2"
      },
      "source": [
        "# params_update  = model.parameters()\n",
        "params_to_update = []\n",
        "print('Parameters to update for Feature extraction: ')\n",
        "for name,param in model.named_parameters():\n",
        "  if param.requires_grad == True:\n",
        "    params_to_update.append(param)\n",
        "    print(name)"
      ],
      "execution_count": null,
      "outputs": [
        {
          "output_type": "stream",
          "text": [
            "Parameters to update for Feature extraction: \n",
            "classifier.6.0.weight\n",
            "classifier.6.0.bias\n",
            "classifier.6.2.weight\n",
            "classifier.6.2.bias\n"
          ],
          "name": "stdout"
        }
      ]
    },
    {
      "cell_type": "code",
      "metadata": {
        "id": "PR9suc_EL_tY",
        "colab_type": "code",
        "colab": {}
      },
      "source": [
        "opt = torch.optim.SGD(params_to_update, lr=0.005, momentum=0.9)"
      ],
      "execution_count": null,
      "outputs": []
    },
    {
      "cell_type": "code",
      "metadata": {
        "id": "c_thwQ5jMbS8",
        "colab_type": "code",
        "colab": {}
      },
      "source": [
        "def accuracy(outputs,labels):\n",
        "  _,preds =  torch.max(outputs,dim=1)\n",
        "  return torch.tensor(torch.sum(preds==labels).item()/len(preds))"
      ],
      "execution_count": null,
      "outputs": []
    },
    {
      "cell_type": "code",
      "metadata": {
        "id": "nQm6FsvnZ5lZ",
        "colab_type": "code",
        "colab": {}
      },
      "source": [
        "# def validation_step(loss,acc):\n",
        "#   return {'val_loss' : loss, 'val_acc' : acc }"
      ],
      "execution_count": null,
      "outputs": []
    },
    {
      "cell_type": "code",
      "metadata": {
        "id": "ExEB_ztmW4vq",
        "colab_type": "code",
        "colab": {}
      },
      "source": [
        "def validation_epoch_end(outputs):\n",
        "  batch_losses = [x['val_loss'] for x in outputs]\n",
        "  epoch_loss = torch.stack(batch_losses).mean()\n",
        "  batch_accs = [x['val_acc'] for x in outputs]\n",
        "  epoch_acc = torch.stack(batch_accs).mean()\n",
        "  return {'val_loss' : epoch_loss.item(), 'val_acc' : epoch_acc.item() }\n",
        "    \n",
        "def epoch_end(epoch, result):\n",
        "  print(\"Epoch [{}], val_loss: {:.4f}, val_acc: {:.4f}\".format(epoch, result['val_loss'], result['val_acc']))"
      ],
      "execution_count": null,
      "outputs": []
    },
    {
      "cell_type": "code",
      "metadata": {
        "id": "hyVWHDsoNIvA",
        "colab_type": "code",
        "colab": {}
      },
      "source": [
        "def train_model(model,train_loader,valid_loader,criterion,epochs,opt_fn):\n",
        "  history = []  \n",
        "\n",
        "  best_model_params = copy.deepcopy(model.state_dict())\n",
        "  best_acc = 0.0\n",
        "\n",
        "  for epoch in range(epochs):\n",
        "    epoch_stats = []\n",
        "    #For Training\n",
        "    model.train()\n",
        "    # curr_loss = 0.0\n",
        "    # curr_acc = 0\n",
        "    for batch in train_loader:\n",
        "      batch = to_device(batch,device)\n",
        "      images,labels = batch\n",
        "      with torch.set_grad_enabled(True):\n",
        "        opt.zero_grad()\n",
        "\n",
        "        outputs = model(images)\n",
        "        loss = criterion(outputs,labels)\n",
        "        # curr_acc = accuracy(outputs,labels)\n",
        "        # curr_loss = loss.item()\n",
        "        loss.backward()\n",
        "        opt.step()\n",
        "    \n",
        "    #For validation\n",
        "    model.eval()\n",
        "    for batch in valid_loader:\n",
        "      batch = to_device(batch,device)\n",
        "      images,labels = batch\n",
        "      with torch.no_grad():\n",
        "        outputs = model(images)\n",
        "        loss = criterion(outputs,labels)\n",
        "        acc = accuracy(outputs,labels)\n",
        "        epoch_stats.append({'val_loss' : loss, 'val_acc' : acc })\n",
        "\n",
        "    result = validation_epoch_end(epoch_stats)\n",
        "\n",
        "    if best_acc < result['val_acc']:\n",
        "      best_model_params = copy.deepcopy(model.state_dict())\n",
        "      best_acc = result['val_acc']\n",
        "\n",
        "    if(epoch+1)%1==0:\n",
        "      epoch_end(epoch+1,result)\n",
        "      print('Best Validation Acc: {:.4f} '.format(best_acc))\n",
        "      # print('\\n')\n",
        "\n",
        "    history.append(result)\n",
        "\n",
        "  model.load_state_dict(best_model_params)\n",
        "  return model, history    \n"
      ],
      "execution_count": null,
      "outputs": []
    },
    {
      "cell_type": "code",
      "metadata": {
        "id": "MyEKeMwjTc4Z",
        "colab_type": "code",
        "colab": {}
      },
      "source": [
        "# Setup the loss function\n",
        "criterion = nn.CrossEntropyLoss()"
      ],
      "execution_count": null,
      "outputs": []
    },
    {
      "cell_type": "code",
      "metadata": {
        "id": "TO-8_cFbTdHU",
        "colab_type": "code",
        "colab": {
          "base_uri": "https://localhost:8080/",
          "height": 992
        },
        "outputId": "1bbe69c3-3b38-4554-8165-f00bf7abe543"
      },
      "source": [
        "model,history = train_model(model,train_dl,val_dl,criterion,30,opt)"
      ],
      "execution_count": null,
      "outputs": [
        {
          "output_type": "stream",
          "text": [
            "Epoch [1], val_loss: 0.5791, val_acc: 0.7988\n",
            "Best Validation Acc: 0.7988 \n",
            "Epoch [2], val_loss: 0.5408, val_acc: 0.8098\n",
            "Best Validation Acc: 0.8098 \n",
            "Epoch [3], val_loss: 0.5240, val_acc: 0.8154\n",
            "Best Validation Acc: 0.8154 \n",
            "Epoch [4], val_loss: 0.5080, val_acc: 0.8245\n",
            "Best Validation Acc: 0.8245 \n",
            "Epoch [5], val_loss: 0.5429, val_acc: 0.8107\n",
            "Best Validation Acc: 0.8245 \n",
            "Epoch [6], val_loss: 0.4813, val_acc: 0.8312\n",
            "Best Validation Acc: 0.8312 \n",
            "Epoch [7], val_loss: 0.5097, val_acc: 0.8199\n",
            "Best Validation Acc: 0.8312 \n",
            "Epoch [8], val_loss: 0.4825, val_acc: 0.8277\n",
            "Best Validation Acc: 0.8312 \n",
            "Epoch [9], val_loss: 0.4735, val_acc: 0.8320\n",
            "Best Validation Acc: 0.8320 \n",
            "Epoch [10], val_loss: 0.4731, val_acc: 0.8410\n",
            "Best Validation Acc: 0.8410 \n",
            "Epoch [11], val_loss: 0.4497, val_acc: 0.8466\n",
            "Best Validation Acc: 0.8466 \n",
            "Epoch [12], val_loss: 0.4766, val_acc: 0.8370\n",
            "Best Validation Acc: 0.8466 \n",
            "Epoch [13], val_loss: 0.4494, val_acc: 0.8412\n",
            "Best Validation Acc: 0.8466 \n",
            "Epoch [14], val_loss: 0.4576, val_acc: 0.8416\n",
            "Best Validation Acc: 0.8466 \n",
            "Epoch [15], val_loss: 0.4611, val_acc: 0.8410\n",
            "Best Validation Acc: 0.8466 \n",
            "Epoch [16], val_loss: 0.4635, val_acc: 0.8376\n",
            "Best Validation Acc: 0.8466 \n",
            "Epoch [17], val_loss: 0.4620, val_acc: 0.8402\n",
            "Best Validation Acc: 0.8466 \n",
            "Epoch [18], val_loss: 0.4556, val_acc: 0.8462\n",
            "Best Validation Acc: 0.8466 \n",
            "Epoch [19], val_loss: 0.4743, val_acc: 0.8378\n",
            "Best Validation Acc: 0.8466 \n",
            "Epoch [20], val_loss: 0.4681, val_acc: 0.8398\n",
            "Best Validation Acc: 0.8466 \n",
            "Epoch [21], val_loss: 0.4816, val_acc: 0.8383\n",
            "Best Validation Acc: 0.8466 \n",
            "Epoch [22], val_loss: 0.4656, val_acc: 0.8428\n",
            "Best Validation Acc: 0.8466 \n",
            "Epoch [23], val_loss: 0.4656, val_acc: 0.8409\n",
            "Best Validation Acc: 0.8466 \n",
            "Epoch [24], val_loss: 0.4707, val_acc: 0.8407\n",
            "Best Validation Acc: 0.8466 \n",
            "Epoch [25], val_loss: 0.4744, val_acc: 0.8407\n",
            "Best Validation Acc: 0.8466 \n",
            "Epoch [26], val_loss: 0.4711, val_acc: 0.8440\n",
            "Best Validation Acc: 0.8466 \n",
            "Epoch [27], val_loss: 0.4803, val_acc: 0.8438\n",
            "Best Validation Acc: 0.8466 \n",
            "Epoch [28], val_loss: 0.4632, val_acc: 0.8421\n",
            "Best Validation Acc: 0.8466 \n",
            "Epoch [29], val_loss: 0.5163, val_acc: 0.8323\n",
            "Best Validation Acc: 0.8466 \n",
            "Epoch [30], val_loss: 0.4805, val_acc: 0.8404\n",
            "Best Validation Acc: 0.8466 \n"
          ],
          "name": "stdout"
        }
      ]
    },
    {
      "cell_type": "code",
      "metadata": {
        "id": "1f_wRO2HTdLf",
        "colab_type": "code",
        "colab": {}
      },
      "source": [
        "torch.save(model.state_dict(),'cifar_alexnet.pth')"
      ],
      "execution_count": null,
      "outputs": []
    },
    {
      "cell_type": "code",
      "metadata": {
        "id": "FAqe3DbaLTE0",
        "colab_type": "code",
        "colab": {}
      },
      "source": [
        "test_dataset = ImageFolder(data_dir+'/test', transform=data_transform)"
      ],
      "execution_count": null,
      "outputs": []
    },
    {
      "cell_type": "code",
      "metadata": {
        "id": "dqwNPBECLVPd",
        "colab_type": "code",
        "colab": {}
      },
      "source": [
        "test_dl = DataLoader(test_dataset, batch_size=256)"
      ],
      "execution_count": null,
      "outputs": []
    },
    {
      "cell_type": "code",
      "metadata": {
        "id": "EPiG7UWeRlyY",
        "colab_type": "code",
        "colab": {}
      },
      "source": [
        "def evaluate(model,test_loader,criterion):\n",
        "#For validation\n",
        "  model.eval()\n",
        "  epoch_stats = []\n",
        "  for batch in test_loader:\n",
        "   batch = to_device(batch,device)\n",
        "   images,labels = batch\n",
        "   with torch.no_grad():\n",
        "     outputs = model(images)\n",
        "     loss = criterion(outputs,labels)\n",
        "     acc = accuracy(outputs,labels)\n",
        "     epoch_stats.append({'val_loss' : loss, 'val_acc' : acc })\n",
        "\n",
        "  return validation_epoch_end(epoch_stats)\n"
      ],
      "execution_count": null,
      "outputs": []
    },
    {
      "cell_type": "code",
      "metadata": {
        "id": "bKM6A4rAtnir",
        "colab_type": "code",
        "colab": {}
      },
      "source": [
        "test_result = evaluate(model,test_dl,criterion)"
      ],
      "execution_count": null,
      "outputs": []
    },
    {
      "cell_type": "code",
      "metadata": {
        "id": "7EQXU8fiLXh9",
        "colab_type": "code",
        "colab": {
          "base_uri": "https://localhost:8080/",
          "height": 33
        },
        "outputId": "bec47f6d-21ad-4f5b-b77a-e55234fc8f13"
      },
      "source": [
        "print(\"test_loss: {:.4f}, test_acc: {:.4f}\".format(test_result['val_loss'], test_result['val_acc']))"
      ],
      "execution_count": null,
      "outputs": [
        {
          "output_type": "stream",
          "text": [
            "test_loss: 0.4570, test_acc: 0.8403\n"
          ],
          "name": "stdout"
        }
      ]
    },
    {
      "cell_type": "code",
      "metadata": {
        "id": "RDmrvXBbtopm",
        "colab_type": "code",
        "colab": {}
      },
      "source": [
        ""
      ],
      "execution_count": null,
      "outputs": []
    }
  ]
}